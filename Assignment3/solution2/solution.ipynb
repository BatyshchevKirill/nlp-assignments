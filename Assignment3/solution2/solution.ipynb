{
 "cells": [
  {
   "cell_type": "code",
   "execution_count": 19,
   "id": "initial_id",
   "metadata": {
    "collapsed": true,
    "ExecuteTime": {
     "end_time": "2024-04-27T12:41:31.059884Z",
     "start_time": "2024-04-27T12:41:27.160126Z"
    }
   },
   "outputs": [
    {
     "name": "stderr",
     "output_type": "stream",
     "text": [
      "/home/nightborn/DataspellProjects/kaggle_comps/venv/lib/python3.10/site-packages/datasets/load.py:1461: FutureWarning: The repository for iluvvatar/RuNNE contains custom code which must be executed to correctly load the dataset. You can inspect the repository content at https://hf.co/datasets/iluvvatar/RuNNE\n",
      "You can avoid this message in future by passing the argument `trust_remote_code=True`.\n",
      "Passing `trust_remote_code=True` will be mandatory to load this dataset from the next major release of `datasets`.\n",
      "  warnings.warn(\n"
     ]
    },
    {
     "data": {
      "text/plain": "DatasetDict({\n    train: Dataset({\n        features: ['id', 'text', 'entities'],\n        num_rows: 461\n    })\n    test: Dataset({\n        features: ['id', 'text', 'entities'],\n        num_rows: 93\n    })\n    dev: Dataset({\n        features: ['id', 'text', 'entities'],\n        num_rows: 323\n    })\n})"
     },
     "execution_count": 19,
     "metadata": {},
     "output_type": "execute_result"
    }
   ],
   "source": [
    "from datasets import load_dataset\n",
    "\n",
    "# Load the datset from the HuggingFace\n",
    "data = load_dataset(\"iluvvatar/RuNNE\")\n",
    "data"
   ]
  },
  {
   "cell_type": "code",
   "outputs": [
    {
     "data": {
      "text/plain": "                                                  text  \\\nid                                                       \n0    Ким Чен Нама убили с помощью запрещённого химо...   \n1    Смена портретов на долларах\\nГарриет Табмен\\nК...   \n2    Новым генсеком ООН станет португалец Гутерреш\\...   \n3    Вахту принял\\n\\nУоррен Баффет назвал своего по...   \n4    В Японии скончался старейший житель Земли — Дз...   \n..                                                 ...   \n836  Электрик руководит социал-демократами Дюссельд...   \n839  Мужчина женился на тёще\\n\\nРумынский мужчина у...   \n843  Названы лауреаты премии «World Press Photo»\\nФ...   \n866  Первое поражение Серены Уильямс в финале Austr...   \n891  Аделина Сотникова стала первой\\nАделина Сотник...   \n\n                                              entities  \nid                                                      \n0    [0 12 PERSON, 56 72 ORGANIZATION, 64 72 COUNTR...  \n1    [19 27 MONEY, 28 42 PERSON, 52 67 MONEY, 68 77...  \n2    [6 14 PROFESSION, 15 18 ORGANIZATION, 26 36 NA...  \n3    [14 27 PERSON, 199 209 DATE, 232 260 PROFESSIO...  \n4    [2 8 COUNTRY, 79 96 DATE, 116 122 COUNTRY, 134...  \n..                                                 ...  \n836  [0 8 PROFESSION, 68 72 ORGANIZATION, 73 101 TI...  \n839  [25 34 NATIONALITY, 129 138 PERSON, 154 161 CI...  \n843  [61 67 COUNTRY, 68 78 PERSON, 258 286 ORGANIZA...  \n866  [0 6 ORDINAL, 17 31 PERSON, 41 56 EVENT, 57 71...  \n891  [0 17 PERSON, 24 30 ORDINAL, 31 48 PERSON, 49 ...  \n\n[461 rows x 2 columns]",
      "text/html": "<div>\n<style scoped>\n    .dataframe tbody tr th:only-of-type {\n        vertical-align: middle;\n    }\n\n    .dataframe tbody tr th {\n        vertical-align: top;\n    }\n\n    .dataframe thead th {\n        text-align: right;\n    }\n</style>\n<table border=\"1\" class=\"dataframe\">\n  <thead>\n    <tr style=\"text-align: right;\">\n      <th></th>\n      <th>text</th>\n      <th>entities</th>\n    </tr>\n    <tr>\n      <th>id</th>\n      <th></th>\n      <th></th>\n    </tr>\n  </thead>\n  <tbody>\n    <tr>\n      <th>0</th>\n      <td>Ким Чен Нама убили с помощью запрещённого химо...</td>\n      <td>[0 12 PERSON, 56 72 ORGANIZATION, 64 72 COUNTR...</td>\n    </tr>\n    <tr>\n      <th>1</th>\n      <td>Смена портретов на долларах\\nГарриет Табмен\\nК...</td>\n      <td>[19 27 MONEY, 28 42 PERSON, 52 67 MONEY, 68 77...</td>\n    </tr>\n    <tr>\n      <th>2</th>\n      <td>Новым генсеком ООН станет португалец Гутерреш\\...</td>\n      <td>[6 14 PROFESSION, 15 18 ORGANIZATION, 26 36 NA...</td>\n    </tr>\n    <tr>\n      <th>3</th>\n      <td>Вахту принял\\n\\nУоррен Баффет назвал своего по...</td>\n      <td>[14 27 PERSON, 199 209 DATE, 232 260 PROFESSIO...</td>\n    </tr>\n    <tr>\n      <th>4</th>\n      <td>В Японии скончался старейший житель Земли — Дз...</td>\n      <td>[2 8 COUNTRY, 79 96 DATE, 116 122 COUNTRY, 134...</td>\n    </tr>\n    <tr>\n      <th>...</th>\n      <td>...</td>\n      <td>...</td>\n    </tr>\n    <tr>\n      <th>836</th>\n      <td>Электрик руководит социал-демократами Дюссельд...</td>\n      <td>[0 8 PROFESSION, 68 72 ORGANIZATION, 73 101 TI...</td>\n    </tr>\n    <tr>\n      <th>839</th>\n      <td>Мужчина женился на тёще\\n\\nРумынский мужчина у...</td>\n      <td>[25 34 NATIONALITY, 129 138 PERSON, 154 161 CI...</td>\n    </tr>\n    <tr>\n      <th>843</th>\n      <td>Названы лауреаты премии «World Press Photo»\\nФ...</td>\n      <td>[61 67 COUNTRY, 68 78 PERSON, 258 286 ORGANIZA...</td>\n    </tr>\n    <tr>\n      <th>866</th>\n      <td>Первое поражение Серены Уильямс в финале Austr...</td>\n      <td>[0 6 ORDINAL, 17 31 PERSON, 41 56 EVENT, 57 71...</td>\n    </tr>\n    <tr>\n      <th>891</th>\n      <td>Аделина Сотникова стала первой\\nАделина Сотник...</td>\n      <td>[0 17 PERSON, 24 30 ORDINAL, 31 48 PERSON, 49 ...</td>\n    </tr>\n  </tbody>\n</table>\n<p>461 rows × 2 columns</p>\n</div>"
     },
     "execution_count": 20,
     "metadata": {},
     "output_type": "execute_result"
    }
   ],
   "source": [
    "import pandas as pd\n",
    "\n",
    "# Convert the dataset to pandas\n",
    "df1, df2 = data['train'], data['test']\n",
    "df1 = pd.DataFrame(df1)\n",
    "df1.set_index(\"id\", inplace=True)\n",
    "\n",
    "df2 = pd.DataFrame(df2)\n",
    "df2.set_index(\"id\", inplace=True)\n",
    "\n",
    "df1"
   ],
   "metadata": {
    "collapsed": false,
    "ExecuteTime": {
     "end_time": "2024-04-27T12:41:31.086628Z",
     "start_time": "2024-04-27T12:41:31.060499Z"
    }
   },
   "id": "7419fae15c190afc",
   "execution_count": 20
  },
  {
   "cell_type": "code",
   "outputs": [
    {
     "data": {
      "text/plain": "                                                  text  \\\nid                                                       \n0    Ким Чен Нама убили с помощью запрещённого химо...   \n1    Смена портретов на долларах\\nГарриет Табмен\\nК...   \n2    Новым генсеком ООН станет португалец Гутерреш\\...   \n3    Вахту принял\\n\\nУоррен Баффет назвал своего по...   \n4    В Японии скончался старейший житель Земли — Дз...   \n..                                                 ...   \n154  Актёр фильмов «Ип Ман» Донни Йен поддержал вра...   \n156  В Солсбери состоится концерт «Из России с любо...   \n168  У Турции есть записи убийства журналиста в сау...   \n173  Жители Крыма назвали сына Биткоином\\n\\nЛоготип...   \n175  Морриконе ответил на сообщения о критике Таран...   \n\n                                              entities  \nid                                                      \n0    [0 12 PERSON, 56 72 ORGANIZATION, 64 72 COUNTR...  \n1    [19 27 MONEY, 28 42 PERSON, 52 67 MONEY, 68 77...  \n2    [6 14 PROFESSION, 15 18 ORGANIZATION, 26 36 NA...  \n3    [14 27 PERSON, 199 209 DATE, 232 260 PROFESSIO...  \n4    [2 8 COUNTRY, 79 96 DATE, 116 122 COUNTRY, 134...  \n..                                                 ...  \n154  [15 21 WORK_OF_ART, 23 32 PERSON, 56 65 PERSON...  \n156  [2 10 CITY, 33 39 COUNTRY, 51 74 FACILITY, 77 ...  \n168  [2 8 COUNTRY, 43 53 COUNTRY, 82 101 ORGANIZATI...  \n173  [7 12 STATE_OR_PROVINCE, 45 53 MONEY, 56 61 ST...  \n175  [0 9 PERSON, 41 50 PERSON, 52 67 ORGANIZATION,...  \n\n[554 rows x 2 columns]",
      "text/html": "<div>\n<style scoped>\n    .dataframe tbody tr th:only-of-type {\n        vertical-align: middle;\n    }\n\n    .dataframe tbody tr th {\n        vertical-align: top;\n    }\n\n    .dataframe thead th {\n        text-align: right;\n    }\n</style>\n<table border=\"1\" class=\"dataframe\">\n  <thead>\n    <tr style=\"text-align: right;\">\n      <th></th>\n      <th>text</th>\n      <th>entities</th>\n    </tr>\n    <tr>\n      <th>id</th>\n      <th></th>\n      <th></th>\n    </tr>\n  </thead>\n  <tbody>\n    <tr>\n      <th>0</th>\n      <td>Ким Чен Нама убили с помощью запрещённого химо...</td>\n      <td>[0 12 PERSON, 56 72 ORGANIZATION, 64 72 COUNTR...</td>\n    </tr>\n    <tr>\n      <th>1</th>\n      <td>Смена портретов на долларах\\nГарриет Табмен\\nК...</td>\n      <td>[19 27 MONEY, 28 42 PERSON, 52 67 MONEY, 68 77...</td>\n    </tr>\n    <tr>\n      <th>2</th>\n      <td>Новым генсеком ООН станет португалец Гутерреш\\...</td>\n      <td>[6 14 PROFESSION, 15 18 ORGANIZATION, 26 36 NA...</td>\n    </tr>\n    <tr>\n      <th>3</th>\n      <td>Вахту принял\\n\\nУоррен Баффет назвал своего по...</td>\n      <td>[14 27 PERSON, 199 209 DATE, 232 260 PROFESSIO...</td>\n    </tr>\n    <tr>\n      <th>4</th>\n      <td>В Японии скончался старейший житель Земли — Дз...</td>\n      <td>[2 8 COUNTRY, 79 96 DATE, 116 122 COUNTRY, 134...</td>\n    </tr>\n    <tr>\n      <th>...</th>\n      <td>...</td>\n      <td>...</td>\n    </tr>\n    <tr>\n      <th>154</th>\n      <td>Актёр фильмов «Ип Ман» Донни Йен поддержал вра...</td>\n      <td>[15 21 WORK_OF_ART, 23 32 PERSON, 56 65 PERSON...</td>\n    </tr>\n    <tr>\n      <th>156</th>\n      <td>В Солсбери состоится концерт «Из России с любо...</td>\n      <td>[2 10 CITY, 33 39 COUNTRY, 51 74 FACILITY, 77 ...</td>\n    </tr>\n    <tr>\n      <th>168</th>\n      <td>У Турции есть записи убийства журналиста в сау...</td>\n      <td>[2 8 COUNTRY, 43 53 COUNTRY, 82 101 ORGANIZATI...</td>\n    </tr>\n    <tr>\n      <th>173</th>\n      <td>Жители Крыма назвали сына Биткоином\\n\\nЛоготип...</td>\n      <td>[7 12 STATE_OR_PROVINCE, 45 53 MONEY, 56 61 ST...</td>\n    </tr>\n    <tr>\n      <th>175</th>\n      <td>Морриконе ответил на сообщения о критике Таран...</td>\n      <td>[0 9 PERSON, 41 50 PERSON, 52 67 ORGANIZATION,...</td>\n    </tr>\n  </tbody>\n</table>\n<p>554 rows × 2 columns</p>\n</div>"
     },
     "execution_count": 21,
     "metadata": {},
     "output_type": "execute_result"
    }
   ],
   "source": [
    "# Combine the dataset\n",
    "df_given = pd.concat([df1, df2])\n",
    "df_given"
   ],
   "metadata": {
    "collapsed": false,
    "ExecuteTime": {
     "end_time": "2024-04-27T12:41:31.093719Z",
     "start_time": "2024-04-27T12:41:31.087402Z"
    }
   },
   "id": "5a44c97f2b6fb2d9",
   "execution_count": 21
  },
  {
   "cell_type": "code",
   "outputs": [
    {
     "data": {
      "text/plain": "                                              entities  \\\nid                                                       \n0    [[0, 5, CITY], [16, 23, PERSON], [34, 41, PERS...   \n1    [[21, 28, PROFESSION], [53, 67, ORGANIZATION],...   \n2    [[0, 4, PERSON], [37, 42, COUNTRY], [47, 76, O...   \n3    [[0, 11, PERSON], [36, 47, PROFESSION], [49, 6...   \n4    [[0, 4, PERSON], [17, 29, ORGANIZATION], [48, ...   \n..                                                 ...   \n514  [[42, 46, COUNTRY], [82, 87, COUNTRY], [104, 1...   \n515  [[1, 4, PRODUCT], [31, 33, FACILITY], [35, 44,...   \n516  [[0, 4, PERSON], [8, 12, PERSON], [45, 52, AGE...   \n517  [[0, 9, NATIONALITY], [58, 72, PERSON], [101, ...   \n518  [[0, 4, PERSON], [16, 25, PROFESSION], [27, 38...   \n\n                                                  text  \nid                                                      \n0    Бостон взорвали Тамерлан и Джохар Царнаевы из ...  \n1    Умер избитый до комы гитарист и сооснователь г...  \n2    Путин подписал распоряжение о выходе России из...  \n3    Бенедикт XVI носил кардиостимулятор\\nПапа Римс...  \n4    Обама назначит в Верховный суд латиноамериканк...  \n..                                                 ...  \n514  Глава Малайзии: мы не хотим противостоять Кита...  \n515  «Союз» впервые пристыковался к МКС за 6 часов\\...  \n516  Трамп и Путин сделали совместное заявление к 7...  \n517  Российский магнат устроил самую дорогую свадьб...  \n518  Трамп поздравил астронавта Пегги Уитсон с уста...  \n\n[519 rows x 2 columns]",
      "text/html": "<div>\n<style scoped>\n    .dataframe tbody tr th:only-of-type {\n        vertical-align: middle;\n    }\n\n    .dataframe tbody tr th {\n        vertical-align: top;\n    }\n\n    .dataframe thead th {\n        text-align: right;\n    }\n</style>\n<table border=\"1\" class=\"dataframe\">\n  <thead>\n    <tr style=\"text-align: right;\">\n      <th></th>\n      <th>entities</th>\n      <th>text</th>\n    </tr>\n    <tr>\n      <th>id</th>\n      <th></th>\n      <th></th>\n    </tr>\n  </thead>\n  <tbody>\n    <tr>\n      <th>0</th>\n      <td>[[0, 5, CITY], [16, 23, PERSON], [34, 41, PERS...</td>\n      <td>Бостон взорвали Тамерлан и Джохар Царнаевы из ...</td>\n    </tr>\n    <tr>\n      <th>1</th>\n      <td>[[21, 28, PROFESSION], [53, 67, ORGANIZATION],...</td>\n      <td>Умер избитый до комы гитарист и сооснователь г...</td>\n    </tr>\n    <tr>\n      <th>2</th>\n      <td>[[0, 4, PERSON], [37, 42, COUNTRY], [47, 76, O...</td>\n      <td>Путин подписал распоряжение о выходе России из...</td>\n    </tr>\n    <tr>\n      <th>3</th>\n      <td>[[0, 11, PERSON], [36, 47, PROFESSION], [49, 6...</td>\n      <td>Бенедикт XVI носил кардиостимулятор\\nПапа Римс...</td>\n    </tr>\n    <tr>\n      <th>4</th>\n      <td>[[0, 4, PERSON], [17, 29, ORGANIZATION], [48, ...</td>\n      <td>Обама назначит в Верховный суд латиноамериканк...</td>\n    </tr>\n    <tr>\n      <th>...</th>\n      <td>...</td>\n      <td>...</td>\n    </tr>\n    <tr>\n      <th>514</th>\n      <td>[[42, 46, COUNTRY], [82, 87, COUNTRY], [104, 1...</td>\n      <td>Глава Малайзии: мы не хотим противостоять Кита...</td>\n    </tr>\n    <tr>\n      <th>515</th>\n      <td>[[1, 4, PRODUCT], [31, 33, FACILITY], [35, 44,...</td>\n      <td>«Союз» впервые пристыковался к МКС за 6 часов\\...</td>\n    </tr>\n    <tr>\n      <th>516</th>\n      <td>[[0, 4, PERSON], [8, 12, PERSON], [45, 52, AGE...</td>\n      <td>Трамп и Путин сделали совместное заявление к 7...</td>\n    </tr>\n    <tr>\n      <th>517</th>\n      <td>[[0, 9, NATIONALITY], [58, 72, PERSON], [101, ...</td>\n      <td>Российский магнат устроил самую дорогую свадьб...</td>\n    </tr>\n    <tr>\n      <th>518</th>\n      <td>[[0, 4, PERSON], [16, 25, PROFESSION], [27, 38...</td>\n      <td>Трамп поздравил астронавта Пегги Уитсон с уста...</td>\n    </tr>\n  </tbody>\n</table>\n<p>519 rows × 2 columns</p>\n</div>"
     },
     "execution_count": 22,
     "metadata": {},
     "output_type": "execute_result"
    }
   ],
   "source": [
    "# Load the provided dataset\n",
    "df = pd.read_json(path_or_buf=\"train.jsonl\", lines=True)\n",
    "df.set_index(\"id\", inplace=True)\n",
    "df.columns = ['entities', \"text\"]\n",
    "df"
   ],
   "metadata": {
    "collapsed": false,
    "ExecuteTime": {
     "end_time": "2024-04-27T12:41:31.164213Z",
     "start_time": "2024-04-27T12:41:31.094929Z"
    }
   },
   "id": "ad7ae2513595f88c",
   "execution_count": 22
  },
  {
   "cell_type": "code",
   "outputs": [
    {
     "data": {
      "text/plain": "                                                  text\nid                                                    \n584  Владелец «Бирмингема» получил шесть лет тюрьмы...\n585  Акция протеста на Майдане Независимости объявл...\n586  Фольксваген может перейти под контроль Порше \\...\n587  В Москве покажут фильмы Чарли Чаплина с живой ...\n588  Чулпан Хаматова сыграет главную роль в фильме ...\n..                                                 ...\n644  ОБСЕ назвала референдум о статусе Крыма незако...\n645  Египетского студента могут выслать из страны з...\n646  Геннадий Онищенко отправлен в отставку\\nГеннад...\n647  Племянник Алишера Усманова разбился в ДТП\\nВид...\n648  Владимир Булавин назначен на новую должность —...\n\n[65 rows x 1 columns]",
      "text/html": "<div>\n<style scoped>\n    .dataframe tbody tr th:only-of-type {\n        vertical-align: middle;\n    }\n\n    .dataframe tbody tr th {\n        vertical-align: top;\n    }\n\n    .dataframe thead th {\n        text-align: right;\n    }\n</style>\n<table border=\"1\" class=\"dataframe\">\n  <thead>\n    <tr style=\"text-align: right;\">\n      <th></th>\n      <th>text</th>\n    </tr>\n    <tr>\n      <th>id</th>\n      <th></th>\n    </tr>\n  </thead>\n  <tbody>\n    <tr>\n      <th>584</th>\n      <td>Владелец «Бирмингема» получил шесть лет тюрьмы...</td>\n    </tr>\n    <tr>\n      <th>585</th>\n      <td>Акция протеста на Майдане Независимости объявл...</td>\n    </tr>\n    <tr>\n      <th>586</th>\n      <td>Фольксваген может перейти под контроль Порше \\...</td>\n    </tr>\n    <tr>\n      <th>587</th>\n      <td>В Москве покажут фильмы Чарли Чаплина с живой ...</td>\n    </tr>\n    <tr>\n      <th>588</th>\n      <td>Чулпан Хаматова сыграет главную роль в фильме ...</td>\n    </tr>\n    <tr>\n      <th>...</th>\n      <td>...</td>\n    </tr>\n    <tr>\n      <th>644</th>\n      <td>ОБСЕ назвала референдум о статусе Крыма незако...</td>\n    </tr>\n    <tr>\n      <th>645</th>\n      <td>Египетского студента могут выслать из страны з...</td>\n    </tr>\n    <tr>\n      <th>646</th>\n      <td>Геннадий Онищенко отправлен в отставку\\nГеннад...</td>\n    </tr>\n    <tr>\n      <th>647</th>\n      <td>Племянник Алишера Усманова разбился в ДТП\\nВид...</td>\n    </tr>\n    <tr>\n      <th>648</th>\n      <td>Владимир Булавин назначен на новую должность —...</td>\n    </tr>\n  </tbody>\n</table>\n<p>65 rows × 1 columns</p>\n</div>"
     },
     "execution_count": 23,
     "metadata": {},
     "output_type": "execute_result"
    }
   ],
   "source": [
    "# Load the test data\n",
    "test = pd.read_json(path_or_buf=\"test.jsonl\", lines=True)\n",
    "test.set_index(\"id\", inplace=True)\n",
    "test.columns = [\"text\"]\n",
    "test"
   ],
   "metadata": {
    "collapsed": false,
    "ExecuteTime": {
     "end_time": "2024-04-27T12:41:31.170736Z",
     "start_time": "2024-04-27T12:41:31.164728Z"
    }
   },
   "id": "78a62b0847552f97",
   "execution_count": 23
  },
  {
   "cell_type": "markdown",
   "source": [
    "Filter out repeated sentences. Sentences in the dataset from huggingface and from codalab have different encoding or something like that, so some symbols differ. Therefore, we think that sentences are the same if they have the same length and they have more than 99% elementwise similarity"
   ],
   "metadata": {
    "collapsed": false
   },
   "id": "b14d40db6c6a7ebd"
  },
  {
   "cell_type": "code",
   "outputs": [
    {
     "name": "stderr",
     "output_type": "stream",
     "text": [
      "100%|██████████| 554/554 [00:00<00:00, 6139.22it/s]"
     ]
    },
    {
     "name": "stdout",
     "output_type": "stream",
     "text": [
      "Length of the huggingface data: 554\n",
      "Length of the huggingface data after filtering out repetitions: 112\n"
     ]
    },
    {
     "name": "stderr",
     "output_type": "stream",
     "text": [
      "\n"
     ]
    }
   ],
   "source": [
    "from tqdm import tqdm\n",
    "\n",
    "to_drop = []\n",
    "\n",
    "for row in tqdm(df_given.iterrows(), total=len(df_given)):\n",
    "    text = row[1]['text']\n",
    "\n",
    "    for sentence in df['text']:\n",
    "        \n",
    "        # Find sentences of similar length \n",
    "        if len(sentence) == len(text):\n",
    "            sim = 0\n",
    "            \n",
    "            # Compare charwise\n",
    "            for c1, c2 in zip(sentence, text):\n",
    "                if c1 == c2:\n",
    "                    sim += 1\n",
    "            sim /= len(sentence)\n",
    "            if sim >= 0.99:\n",
    "                to_drop.append(row[0])\n",
    "\n",
    "print(\"Length of the huggingface data:\", len(df_given))\n",
    "df_given = df_given.drop(to_drop)\n",
    "print(\"Length of the huggingface data after filtering out repetitions:\", len(df_given))"
   ],
   "metadata": {
    "collapsed": false,
    "ExecuteTime": {
     "end_time": "2024-04-27T12:41:31.269718Z",
     "start_time": "2024-04-27T12:41:31.171200Z"
    }
   },
   "id": "798f6ab2d3f4de8e",
   "execution_count": 24
  },
  {
   "cell_type": "code",
   "outputs": [
    {
     "data": {
      "text/plain": "                                                  text  \\\nid                                                       \n4    В Японии скончался старейший житель Земли — Дз...   \n7    Мэр Москвы назвал состав нового правительства\\...   \n19   Племянник Алишера Усманова разбился в ДТП\\nВид...   \n21   Газпром сменит главу оператора морского участк...   \n23   Герман Кейн — в президенты?\\n\\n\\n\\n\\n''У Барак...   \n..                                                 ...   \n118  Depeche Mode выпустил новый альбом Spirit\\n\\nВ...   \n121  Мэр Гданьска погиб после ножевой атаки на благ...   \n129  Умерла старейшая жительница Земли Эмма Морано\\...   \n141  Умер Кирк Дуглас — последний представитель «зо...   \n146  Билл Гейтс представил в Китае работающий без в...   \n\n                                              entities  \nid                                                      \n4    [[2, 7, COUNTRY], [79, 95, DATE], [116, 121, C...  \n7    [[0, 2, PROFESSION], [97, 107, CITY], [114, 13...  \n19   [[10, 25, PERSON], [38, 40, EVENT], [49, 55, C...  \n21   [[0, 6, ORGANIZATION], [15, 62, PROFESSION], [...  \n23   [[0, 10, PERSON], [16, 25, PROFESSION], [36, 4...  \n..                                                 ...  \n118  [[0, 11, ORGANIZATION], [35, 40, WORK_OF_ART],...  \n121  [[0, 2, PROFESSION], [69, 82, PERSON], [84, 11...  \n129  [[34, 44, PERSON], [47, 57, PERSON], [59, 88, ...  \n141  [[5, 15, PERSON], [59, 71, COUNTRY], [87, 97, ...  \n146  [[0, 9, PERSON], [24, 28, COUNTRY], [174, 183,...  \n\n[112 rows x 2 columns]",
      "text/html": "<div>\n<style scoped>\n    .dataframe tbody tr th:only-of-type {\n        vertical-align: middle;\n    }\n\n    .dataframe tbody tr th {\n        vertical-align: top;\n    }\n\n    .dataframe thead th {\n        text-align: right;\n    }\n</style>\n<table border=\"1\" class=\"dataframe\">\n  <thead>\n    <tr style=\"text-align: right;\">\n      <th></th>\n      <th>text</th>\n      <th>entities</th>\n    </tr>\n    <tr>\n      <th>id</th>\n      <th></th>\n      <th></th>\n    </tr>\n  </thead>\n  <tbody>\n    <tr>\n      <th>4</th>\n      <td>В Японии скончался старейший житель Земли — Дз...</td>\n      <td>[[2, 7, COUNTRY], [79, 95, DATE], [116, 121, C...</td>\n    </tr>\n    <tr>\n      <th>7</th>\n      <td>Мэр Москвы назвал состав нового правительства\\...</td>\n      <td>[[0, 2, PROFESSION], [97, 107, CITY], [114, 13...</td>\n    </tr>\n    <tr>\n      <th>19</th>\n      <td>Племянник Алишера Усманова разбился в ДТП\\nВид...</td>\n      <td>[[10, 25, PERSON], [38, 40, EVENT], [49, 55, C...</td>\n    </tr>\n    <tr>\n      <th>21</th>\n      <td>Газпром сменит главу оператора морского участк...</td>\n      <td>[[0, 6, ORGANIZATION], [15, 62, PROFESSION], [...</td>\n    </tr>\n    <tr>\n      <th>23</th>\n      <td>Герман Кейн — в президенты?\\n\\n\\n\\n\\n''У Барак...</td>\n      <td>[[0, 10, PERSON], [16, 25, PROFESSION], [36, 4...</td>\n    </tr>\n    <tr>\n      <th>...</th>\n      <td>...</td>\n      <td>...</td>\n    </tr>\n    <tr>\n      <th>118</th>\n      <td>Depeche Mode выпустил новый альбом Spirit\\n\\nВ...</td>\n      <td>[[0, 11, ORGANIZATION], [35, 40, WORK_OF_ART],...</td>\n    </tr>\n    <tr>\n      <th>121</th>\n      <td>Мэр Гданьска погиб после ножевой атаки на благ...</td>\n      <td>[[0, 2, PROFESSION], [69, 82, PERSON], [84, 11...</td>\n    </tr>\n    <tr>\n      <th>129</th>\n      <td>Умерла старейшая жительница Земли Эмма Морано\\...</td>\n      <td>[[34, 44, PERSON], [47, 57, PERSON], [59, 88, ...</td>\n    </tr>\n    <tr>\n      <th>141</th>\n      <td>Умер Кирк Дуглас — последний представитель «зо...</td>\n      <td>[[5, 15, PERSON], [59, 71, COUNTRY], [87, 97, ...</td>\n    </tr>\n    <tr>\n      <th>146</th>\n      <td>Билл Гейтс представил в Китае работающий без в...</td>\n      <td>[[0, 9, PERSON], [24, 28, COUNTRY], [174, 183,...</td>\n    </tr>\n  </tbody>\n</table>\n<p>112 rows × 2 columns</p>\n</div>"
     },
     "execution_count": 8,
     "metadata": {},
     "output_type": "execute_result"
    }
   ],
   "source": [
    "def convert(x):\n",
    "    \"\"\"\n",
    "    Convert the huggingface format to codalab format\n",
    "    \n",
    "    :param x: list of entities\n",
    "    :return: the converted list of entities\n",
    "    \"\"\"\n",
    "    prepped = []\n",
    "    for e in x:\n",
    "        e = e.split()\n",
    "        prepped.append([int(e[0]), int(e[1])-1, e[2]])\n",
    "    return prepped\n",
    "\n",
    "df_given['entities'] = df_given['entities'].apply(convert)\n",
    "df_given"
   ],
   "metadata": {
    "collapsed": false,
    "ExecuteTime": {
     "end_time": "2024-04-27T12:26:09.518941Z",
     "start_time": "2024-04-27T12:26:09.428469Z"
    }
   },
   "id": "becf070da8573eb9",
   "execution_count": 8
  },
  {
   "cell_type": "code",
   "outputs": [
    {
     "data": {
      "text/plain": "                                                  text  \\\nid                                                       \n4    В Японии скончался старейший житель Земли — Дз...   \n7    Мэр Москвы назвал состав нового правительства\\...   \n19   Племянник Алишера Усманова разбился в ДТП\\nВид...   \n21   Газпром сменит главу оператора морского участк...   \n23   Герман Кейн — в президенты?\\n\\n\\n\\n\\n''У Барак...   \n..                                                 ...   \n514  Глава Малайзии: мы не хотим противостоять Кита...   \n515  «Союз» впервые пристыковался к МКС за 6 часов\\...   \n516  Трамп и Путин сделали совместное заявление к 7...   \n517  Российский магнат устроил самую дорогую свадьб...   \n518  Трамп поздравил астронавта Пегги Уитсон с уста...   \n\n                                              entities  \nid                                                      \n4    [[2, 7, COUNTRY], [79, 95, DATE], [116, 121, C...  \n7    [[0, 2, PROFESSION], [97, 107, CITY], [114, 13...  \n19   [[10, 25, PERSON], [38, 40, EVENT], [49, 55, C...  \n21   [[0, 6, ORGANIZATION], [15, 62, PROFESSION], [...  \n23   [[0, 10, PERSON], [16, 25, PROFESSION], [36, 4...  \n..                                                 ...  \n514  [[42, 46, COUNTRY], [82, 87, COUNTRY], [104, 1...  \n515  [[1, 4, PRODUCT], [31, 33, FACILITY], [35, 44,...  \n516  [[0, 4, PERSON], [8, 12, PERSON], [45, 52, AGE...  \n517  [[0, 9, NATIONALITY], [58, 72, PERSON], [101, ...  \n518  [[0, 4, PERSON], [16, 25, PROFESSION], [27, 38...  \n\n[631 rows x 2 columns]",
      "text/html": "<div>\n<style scoped>\n    .dataframe tbody tr th:only-of-type {\n        vertical-align: middle;\n    }\n\n    .dataframe tbody tr th {\n        vertical-align: top;\n    }\n\n    .dataframe thead th {\n        text-align: right;\n    }\n</style>\n<table border=\"1\" class=\"dataframe\">\n  <thead>\n    <tr style=\"text-align: right;\">\n      <th></th>\n      <th>text</th>\n      <th>entities</th>\n    </tr>\n    <tr>\n      <th>id</th>\n      <th></th>\n      <th></th>\n    </tr>\n  </thead>\n  <tbody>\n    <tr>\n      <th>4</th>\n      <td>В Японии скончался старейший житель Земли — Дз...</td>\n      <td>[[2, 7, COUNTRY], [79, 95, DATE], [116, 121, C...</td>\n    </tr>\n    <tr>\n      <th>7</th>\n      <td>Мэр Москвы назвал состав нового правительства\\...</td>\n      <td>[[0, 2, PROFESSION], [97, 107, CITY], [114, 13...</td>\n    </tr>\n    <tr>\n      <th>19</th>\n      <td>Племянник Алишера Усманова разбился в ДТП\\nВид...</td>\n      <td>[[10, 25, PERSON], [38, 40, EVENT], [49, 55, C...</td>\n    </tr>\n    <tr>\n      <th>21</th>\n      <td>Газпром сменит главу оператора морского участк...</td>\n      <td>[[0, 6, ORGANIZATION], [15, 62, PROFESSION], [...</td>\n    </tr>\n    <tr>\n      <th>23</th>\n      <td>Герман Кейн — в президенты?\\n\\n\\n\\n\\n''У Барак...</td>\n      <td>[[0, 10, PERSON], [16, 25, PROFESSION], [36, 4...</td>\n    </tr>\n    <tr>\n      <th>...</th>\n      <td>...</td>\n      <td>...</td>\n    </tr>\n    <tr>\n      <th>514</th>\n      <td>Глава Малайзии: мы не хотим противостоять Кита...</td>\n      <td>[[42, 46, COUNTRY], [82, 87, COUNTRY], [104, 1...</td>\n    </tr>\n    <tr>\n      <th>515</th>\n      <td>«Союз» впервые пристыковался к МКС за 6 часов\\...</td>\n      <td>[[1, 4, PRODUCT], [31, 33, FACILITY], [35, 44,...</td>\n    </tr>\n    <tr>\n      <th>516</th>\n      <td>Трамп и Путин сделали совместное заявление к 7...</td>\n      <td>[[0, 4, PERSON], [8, 12, PERSON], [45, 52, AGE...</td>\n    </tr>\n    <tr>\n      <th>517</th>\n      <td>Российский магнат устроил самую дорогую свадьб...</td>\n      <td>[[0, 9, NATIONALITY], [58, 72, PERSON], [101, ...</td>\n    </tr>\n    <tr>\n      <th>518</th>\n      <td>Трамп поздравил астронавта Пегги Уитсон с уста...</td>\n      <td>[[0, 4, PERSON], [16, 25, PROFESSION], [27, 38...</td>\n    </tr>\n  </tbody>\n</table>\n<p>631 rows × 2 columns</p>\n</div>"
     },
     "execution_count": 9,
     "metadata": {},
     "output_type": "execute_result"
    }
   ],
   "source": [
    "# Combine the codalab and huggingface data\n",
    "df = pd.concat([df_given, df])\n",
    "df"
   ],
   "metadata": {
    "collapsed": false,
    "ExecuteTime": {
     "end_time": "2024-04-27T12:26:13.544321Z",
     "start_time": "2024-04-27T12:26:13.487012Z"
    }
   },
   "id": "32020b772b7f8aa1",
   "execution_count": 9
  },
  {
   "cell_type": "markdown",
   "source": [
    "# Data analysis"
   ],
   "metadata": {
    "collapsed": false
   },
   "id": "62f13834620bf68d"
  },
  {
   "cell_type": "markdown",
   "source": [
    "The mean number of entities"
   ],
   "metadata": {
    "collapsed": false
   },
   "id": "744f7bdde7da91f8"
  },
  {
   "cell_type": "code",
   "outputs": [
    {
     "data": {
      "text/plain": "59.41233140655106"
     },
     "execution_count": 25,
     "metadata": {},
     "output_type": "execute_result"
    }
   ],
   "source": [
    "df['entities'].apply(len).mean()"
   ],
   "metadata": {
    "collapsed": false,
    "ExecuteTime": {
     "end_time": "2024-04-27T12:43:36.175475Z",
     "start_time": "2024-04-27T12:43:36.170309Z"
    }
   },
   "id": "42f65b955029e2cf",
   "execution_count": 25
  },
  {
   "cell_type": "markdown",
   "source": [
    "Counts of tags (should be better visited in JetBrains IDE)"
   ],
   "metadata": {
    "collapsed": false
   },
   "id": "6056ff559abe5ab4"
  },
  {
   "cell_type": "code",
   "outputs": [
    {
     "data": {
      "text/plain": "PERSON               6285\nPROFESSION           6122\nORGANIZATION         5135\nEVENT                4119\nDATE                 3318\nCOUNTRY              3145\nCITY                 1571\nNUMBER               1353\nAGE                   812\nORDINAL               741\nNATIONALITY           540\nLAW                   516\nAWARD                 516\nSTATE_OR_PROVINCE     511\nFACILITY              502\nLOCATION              378\nIDEOLOGY              351\nPRODUCT               314\nWORK_OF_ART           305\nCRIME                 272\nDISEASE               246\nTIME                  228\nMONEY                 220\nDISTRICT              127\nRELIGION              106\nPENALTY               102\nPERCENT                91\nLANGUAGE               65\nFAMILY                 28\nName: count, dtype: int64"
     },
     "execution_count": 11,
     "metadata": {},
     "output_type": "execute_result"
    }
   ],
   "source": [
    "entity_names = [sublist[2] for row in df['entities'] for sublist in row]\n",
    "\n",
    "pd.Series(entity_names).value_counts()"
   ],
   "metadata": {
    "collapsed": false,
    "ExecuteTime": {
     "end_time": "2024-04-27T12:26:17.162452Z",
     "start_time": "2024-04-27T12:26:17.155190Z"
    }
   },
   "id": "f1290506c59330e4",
   "execution_count": 11
  },
  {
   "cell_type": "markdown",
   "source": [
    "Count the statistics of the data by the tags (should be better visible in JetBrains IDE)"
   ],
   "metadata": {
    "collapsed": false
   },
   "id": "3e883dcb2516c02"
  },
  {
   "cell_type": "code",
   "outputs": [
    {
     "data": {
      "text/plain": "                   min_length  max_length  mean_length  min_words  max_words  \\\nCOUNTRY                     2          37     7.518601          1          3   \nDATE                        2          45    13.587703          1          9   \nAGE                         1          26     8.931034          1          5   \nPERSON                      2          47    11.575497          1          7   \nAWARD                       5          64    21.554264          1         10   \nPROFESSION                  3         122    16.647174          1         14   \nCITY                        3          33     8.576703          1          4   \nNUMBER                      1          33     5.290466          1          5   \nEVENT                       2          73    13.769847          1          8   \nLOCATION                    3          46    11.452381          1          6   \nSTATE_OR_PROVINCE           2          27    11.590998          1          4   \nORGANIZATION                1         147    15.999221          1         15   \nDISTRICT                    3          44    15.511811          1          4   \nPRODUCT                     2          55     8.773885          1          6   \nNATIONALITY                 4          36     9.979630          1          3   \nTIME                        4          59    19.135965          1         11   \nFACILITY                    2          71    17.599602          1         10   \nMONEY                       4          61    16.086364          1          8   \nORDINAL                     1          16     5.043185          1          3   \nIDEOLOGY                    4          49    13.572650          1          8   \nCRIME                       5         125    26.415441          1         14   \nLAW                         2         255    30.222868          1         29   \nPERCENT                     2          25     8.021978          1          5   \nWORK_OF_ART                 3         100    16.452459          1         11   \nPENALTY                     5          67    20.117647          1         10   \nRELIGION                    5          30    10.179245          1          2   \nLANGUAGE                    4          15     8.692308          1          1   \nDISEASE                     3          43    13.654472          1          6   \nFAMILY                      5          26    13.785714          1          4   \n\n                   mean_words  \nCOUNTRY              1.048331  \nDATE                 2.977095  \nAGE                  1.474138  \nPERSON               1.665076  \nAWARD                2.810078  \nPROFESSION           1.842045  \nCITY                 1.033736  \nNUMBER               1.299335  \nEVENT                1.778830  \nLOCATION             1.457672  \nSTATE_OR_PROVINCE    1.338552  \nORGANIZATION         1.965141  \nDISTRICT             1.692913  \nPRODUCT              1.219745  \nNATIONALITY          1.092593  \nTIME                 3.828947  \nFACILITY             2.217131  \nMONEY                2.927273  \nORDINAL              1.017544  \nIDEOLOGY             1.091168  \nCRIME                2.933824  \nLAW                  4.310078  \nPERCENT              1.879121  \nWORK_OF_ART          2.636066  \nPENALTY              2.813725  \nRELIGION             1.009434  \nLANGUAGE             1.000000  \nDISEASE              1.695122  \nFAMILY               1.785714  ",
      "text/html": "<div>\n<style scoped>\n    .dataframe tbody tr th:only-of-type {\n        vertical-align: middle;\n    }\n\n    .dataframe tbody tr th {\n        vertical-align: top;\n    }\n\n    .dataframe thead th {\n        text-align: right;\n    }\n</style>\n<table border=\"1\" class=\"dataframe\">\n  <thead>\n    <tr style=\"text-align: right;\">\n      <th></th>\n      <th>min_length</th>\n      <th>max_length</th>\n      <th>mean_length</th>\n      <th>min_words</th>\n      <th>max_words</th>\n      <th>mean_words</th>\n    </tr>\n  </thead>\n  <tbody>\n    <tr>\n      <th>COUNTRY</th>\n      <td>2</td>\n      <td>37</td>\n      <td>7.518601</td>\n      <td>1</td>\n      <td>3</td>\n      <td>1.048331</td>\n    </tr>\n    <tr>\n      <th>DATE</th>\n      <td>2</td>\n      <td>45</td>\n      <td>13.587703</td>\n      <td>1</td>\n      <td>9</td>\n      <td>2.977095</td>\n    </tr>\n    <tr>\n      <th>AGE</th>\n      <td>1</td>\n      <td>26</td>\n      <td>8.931034</td>\n      <td>1</td>\n      <td>5</td>\n      <td>1.474138</td>\n    </tr>\n    <tr>\n      <th>PERSON</th>\n      <td>2</td>\n      <td>47</td>\n      <td>11.575497</td>\n      <td>1</td>\n      <td>7</td>\n      <td>1.665076</td>\n    </tr>\n    <tr>\n      <th>AWARD</th>\n      <td>5</td>\n      <td>64</td>\n      <td>21.554264</td>\n      <td>1</td>\n      <td>10</td>\n      <td>2.810078</td>\n    </tr>\n    <tr>\n      <th>PROFESSION</th>\n      <td>3</td>\n      <td>122</td>\n      <td>16.647174</td>\n      <td>1</td>\n      <td>14</td>\n      <td>1.842045</td>\n    </tr>\n    <tr>\n      <th>CITY</th>\n      <td>3</td>\n      <td>33</td>\n      <td>8.576703</td>\n      <td>1</td>\n      <td>4</td>\n      <td>1.033736</td>\n    </tr>\n    <tr>\n      <th>NUMBER</th>\n      <td>1</td>\n      <td>33</td>\n      <td>5.290466</td>\n      <td>1</td>\n      <td>5</td>\n      <td>1.299335</td>\n    </tr>\n    <tr>\n      <th>EVENT</th>\n      <td>2</td>\n      <td>73</td>\n      <td>13.769847</td>\n      <td>1</td>\n      <td>8</td>\n      <td>1.778830</td>\n    </tr>\n    <tr>\n      <th>LOCATION</th>\n      <td>3</td>\n      <td>46</td>\n      <td>11.452381</td>\n      <td>1</td>\n      <td>6</td>\n      <td>1.457672</td>\n    </tr>\n    <tr>\n      <th>STATE_OR_PROVINCE</th>\n      <td>2</td>\n      <td>27</td>\n      <td>11.590998</td>\n      <td>1</td>\n      <td>4</td>\n      <td>1.338552</td>\n    </tr>\n    <tr>\n      <th>ORGANIZATION</th>\n      <td>1</td>\n      <td>147</td>\n      <td>15.999221</td>\n      <td>1</td>\n      <td>15</td>\n      <td>1.965141</td>\n    </tr>\n    <tr>\n      <th>DISTRICT</th>\n      <td>3</td>\n      <td>44</td>\n      <td>15.511811</td>\n      <td>1</td>\n      <td>4</td>\n      <td>1.692913</td>\n    </tr>\n    <tr>\n      <th>PRODUCT</th>\n      <td>2</td>\n      <td>55</td>\n      <td>8.773885</td>\n      <td>1</td>\n      <td>6</td>\n      <td>1.219745</td>\n    </tr>\n    <tr>\n      <th>NATIONALITY</th>\n      <td>4</td>\n      <td>36</td>\n      <td>9.979630</td>\n      <td>1</td>\n      <td>3</td>\n      <td>1.092593</td>\n    </tr>\n    <tr>\n      <th>TIME</th>\n      <td>4</td>\n      <td>59</td>\n      <td>19.135965</td>\n      <td>1</td>\n      <td>11</td>\n      <td>3.828947</td>\n    </tr>\n    <tr>\n      <th>FACILITY</th>\n      <td>2</td>\n      <td>71</td>\n      <td>17.599602</td>\n      <td>1</td>\n      <td>10</td>\n      <td>2.217131</td>\n    </tr>\n    <tr>\n      <th>MONEY</th>\n      <td>4</td>\n      <td>61</td>\n      <td>16.086364</td>\n      <td>1</td>\n      <td>8</td>\n      <td>2.927273</td>\n    </tr>\n    <tr>\n      <th>ORDINAL</th>\n      <td>1</td>\n      <td>16</td>\n      <td>5.043185</td>\n      <td>1</td>\n      <td>3</td>\n      <td>1.017544</td>\n    </tr>\n    <tr>\n      <th>IDEOLOGY</th>\n      <td>4</td>\n      <td>49</td>\n      <td>13.572650</td>\n      <td>1</td>\n      <td>8</td>\n      <td>1.091168</td>\n    </tr>\n    <tr>\n      <th>CRIME</th>\n      <td>5</td>\n      <td>125</td>\n      <td>26.415441</td>\n      <td>1</td>\n      <td>14</td>\n      <td>2.933824</td>\n    </tr>\n    <tr>\n      <th>LAW</th>\n      <td>2</td>\n      <td>255</td>\n      <td>30.222868</td>\n      <td>1</td>\n      <td>29</td>\n      <td>4.310078</td>\n    </tr>\n    <tr>\n      <th>PERCENT</th>\n      <td>2</td>\n      <td>25</td>\n      <td>8.021978</td>\n      <td>1</td>\n      <td>5</td>\n      <td>1.879121</td>\n    </tr>\n    <tr>\n      <th>WORK_OF_ART</th>\n      <td>3</td>\n      <td>100</td>\n      <td>16.452459</td>\n      <td>1</td>\n      <td>11</td>\n      <td>2.636066</td>\n    </tr>\n    <tr>\n      <th>PENALTY</th>\n      <td>5</td>\n      <td>67</td>\n      <td>20.117647</td>\n      <td>1</td>\n      <td>10</td>\n      <td>2.813725</td>\n    </tr>\n    <tr>\n      <th>RELIGION</th>\n      <td>5</td>\n      <td>30</td>\n      <td>10.179245</td>\n      <td>1</td>\n      <td>2</td>\n      <td>1.009434</td>\n    </tr>\n    <tr>\n      <th>LANGUAGE</th>\n      <td>4</td>\n      <td>15</td>\n      <td>8.692308</td>\n      <td>1</td>\n      <td>1</td>\n      <td>1.000000</td>\n    </tr>\n    <tr>\n      <th>DISEASE</th>\n      <td>3</td>\n      <td>43</td>\n      <td>13.654472</td>\n      <td>1</td>\n      <td>6</td>\n      <td>1.695122</td>\n    </tr>\n    <tr>\n      <th>FAMILY</th>\n      <td>5</td>\n      <td>26</td>\n      <td>13.785714</td>\n      <td>1</td>\n      <td>4</td>\n      <td>1.785714</td>\n    </tr>\n  </tbody>\n</table>\n</div>"
     },
     "execution_count": 12,
     "metadata": {},
     "output_type": "execute_result"
    }
   ],
   "source": [
    "entity_stats = {}\n",
    "\n",
    "for _, row in df.iterrows():\n",
    "    text = row['text']\n",
    "    entities = row['entities']\n",
    "\n",
    "    for sublist in entities:\n",
    "        entity_name = sublist[2]\n",
    "        start_idx = sublist[0]\n",
    "        end_idx = sublist[1]\n",
    "        entity_length = end_idx - start_idx + 1\n",
    "\n",
    "        entity_text = text[start_idx:end_idx + 1]\n",
    "\n",
    "        num_words = len(entity_text.split())\n",
    "\n",
    "        if entity_name not in entity_stats:\n",
    "            entity_stats[entity_name] = {'lengths': [], 'num_words': []}\n",
    "\n",
    "        entity_stats[entity_name]['lengths'].append(entity_length)\n",
    "        entity_stats[entity_name]['num_words'].append(num_words)\n",
    "\n",
    "entity_df = pd.DataFrame.from_dict(\n",
    "    {entity_name: {'min_length': min(stats['lengths']),\n",
    "                   'max_length': max(stats['lengths']),\n",
    "                   'mean_length': sum(stats['lengths']) / len(stats['lengths']),\n",
    "                   'min_words': min(stats['num_words']),\n",
    "                   'max_words': max(stats['num_words']),\n",
    "                   'mean_words': sum(stats['num_words']) / len(stats['num_words'])}\n",
    "     for entity_name, stats in entity_stats.items()},\n",
    "    orient='index'\n",
    ")\n",
    "\n",
    "entity_df"
   ],
   "metadata": {
    "collapsed": false,
    "ExecuteTime": {
     "end_time": "2024-04-27T12:26:18.563828Z",
     "start_time": "2024-04-27T12:26:18.523290Z"
    }
   },
   "id": "627965a4c236bb48",
   "execution_count": 12
  },
  {
   "cell_type": "markdown",
   "source": [
    "# Data preprocessing"
   ],
   "metadata": {
    "collapsed": false
   },
   "id": "9f837c6f751b19af"
  },
  {
   "cell_type": "code",
   "outputs": [
    {
     "data": {
      "text/plain": "{'COUNTRY': 0,\n 'DATE': 1,\n 'AGE': 2,\n 'PERSON': 3,\n 'AWARD': 4,\n 'PROFESSION': 5,\n 'CITY': 6,\n 'NUMBER': 7,\n 'EVENT': 8,\n 'LOCATION': 9,\n 'STATE_OR_PROVINCE': 10,\n 'ORGANIZATION': 11,\n 'DISTRICT': 12,\n 'PRODUCT': 13,\n 'NATIONALITY': 14,\n 'TIME': 15,\n 'FACILITY': 16,\n 'MONEY': 17,\n 'ORDINAL': 18,\n 'IDEOLOGY': 19,\n 'CRIME': 20,\n 'LAW': 21,\n 'PERCENT': 22,\n 'WORK_OF_ART': 23,\n 'PENALTY': 24,\n 'RELIGION': 25,\n 'LANGUAGE': 26,\n 'DISEASE': 27,\n 'FAMILY': 28}"
     },
     "execution_count": 26,
     "metadata": {},
     "output_type": "execute_result"
    }
   ],
   "source": [
    "# Dict to convert labels to numbers\n",
    "labels = list(entity_df.index)\n",
    "label2num = {l: i for i, l in enumerate(labels)}\n",
    "label2num"
   ],
   "metadata": {
    "collapsed": false,
    "ExecuteTime": {
     "end_time": "2024-04-27T12:47:22.692071Z",
     "start_time": "2024-04-27T12:47:22.688862Z"
    }
   },
   "id": "a5d95df173a536f2",
   "execution_count": 26
  },
  {
   "cell_type": "code",
   "outputs": [
    {
     "data": {
      "text/plain": "                                              entities  \\\nid                                                       \n0    [[0, 5, 6], [16, 23, 3], [34, 41, 3], [46, 62,...   \n1    [[21, 28, 5], [53, 67, 11], [100, 148, 15], [1...   \n2    [[0, 4, 3], [37, 42, 0], [47, 76, 11], [97, 10...   \n3    [[0, 11, 3], [36, 47, 5], [49, 60, 3], [103, 1...   \n4    [[0, 4, 3], [17, 29, 11], [48, 56, 5], [62, 72...   \n..                                                 ...   \n514  [[42, 46, 0], [82, 87, 0], [104, 123, 9], [158...   \n515  [[1, 4, 13], [31, 33, 16], [35, 44, 15], [48, ...   \n516  [[0, 4, 3], [8, 12, 3], [45, 52, 2], [72, 80, ...   \n517  [[0, 9, 14], [58, 72, 3], [101, 115, 3], [138,...   \n518  [[0, 4, 3], [16, 25, 5], [27, 38, 3], [85, 96,...   \n\n                                                  text  \nid                                                      \n0    Бостон взорвали Тамерлан и Джохар Царнаевы из ...  \n1    Умер избитый до комы гитарист и сооснователь г...  \n2    Путин подписал распоряжение о выходе России из...  \n3    Бенедикт XVI носил кардиостимулятор\\nПапа Римс...  \n4    Обама назначит в Верховный суд латиноамериканк...  \n..                                                 ...  \n514  Глава Малайзии: мы не хотим противостоять Кита...  \n515  «Союз» впервые пристыковался к МКС за 6 часов\\...  \n516  Трамп и Путин сделали совместное заявление к 7...  \n517  Российский магнат устроил самую дорогую свадьб...  \n518  Трамп поздравил астронавта Пегги Уитсон с уста...  \n\n[519 rows x 2 columns]",
      "text/html": "<div>\n<style scoped>\n    .dataframe tbody tr th:only-of-type {\n        vertical-align: middle;\n    }\n\n    .dataframe tbody tr th {\n        vertical-align: top;\n    }\n\n    .dataframe thead th {\n        text-align: right;\n    }\n</style>\n<table border=\"1\" class=\"dataframe\">\n  <thead>\n    <tr style=\"text-align: right;\">\n      <th></th>\n      <th>entities</th>\n      <th>text</th>\n    </tr>\n    <tr>\n      <th>id</th>\n      <th></th>\n      <th></th>\n    </tr>\n  </thead>\n  <tbody>\n    <tr>\n      <th>0</th>\n      <td>[[0, 5, 6], [16, 23, 3], [34, 41, 3], [46, 62,...</td>\n      <td>Бостон взорвали Тамерлан и Джохар Царнаевы из ...</td>\n    </tr>\n    <tr>\n      <th>1</th>\n      <td>[[21, 28, 5], [53, 67, 11], [100, 148, 15], [1...</td>\n      <td>Умер избитый до комы гитарист и сооснователь г...</td>\n    </tr>\n    <tr>\n      <th>2</th>\n      <td>[[0, 4, 3], [37, 42, 0], [47, 76, 11], [97, 10...</td>\n      <td>Путин подписал распоряжение о выходе России из...</td>\n    </tr>\n    <tr>\n      <th>3</th>\n      <td>[[0, 11, 3], [36, 47, 5], [49, 60, 3], [103, 1...</td>\n      <td>Бенедикт XVI носил кардиостимулятор\\nПапа Римс...</td>\n    </tr>\n    <tr>\n      <th>4</th>\n      <td>[[0, 4, 3], [17, 29, 11], [48, 56, 5], [62, 72...</td>\n      <td>Обама назначит в Верховный суд латиноамериканк...</td>\n    </tr>\n    <tr>\n      <th>...</th>\n      <td>...</td>\n      <td>...</td>\n    </tr>\n    <tr>\n      <th>514</th>\n      <td>[[42, 46, 0], [82, 87, 0], [104, 123, 9], [158...</td>\n      <td>Глава Малайзии: мы не хотим противостоять Кита...</td>\n    </tr>\n    <tr>\n      <th>515</th>\n      <td>[[1, 4, 13], [31, 33, 16], [35, 44, 15], [48, ...</td>\n      <td>«Союз» впервые пристыковался к МКС за 6 часов\\...</td>\n    </tr>\n    <tr>\n      <th>516</th>\n      <td>[[0, 4, 3], [8, 12, 3], [45, 52, 2], [72, 80, ...</td>\n      <td>Трамп и Путин сделали совместное заявление к 7...</td>\n    </tr>\n    <tr>\n      <th>517</th>\n      <td>[[0, 9, 14], [58, 72, 3], [101, 115, 3], [138,...</td>\n      <td>Российский магнат устроил самую дорогую свадьб...</td>\n    </tr>\n    <tr>\n      <th>518</th>\n      <td>[[0, 4, 3], [16, 25, 5], [27, 38, 3], [85, 96,...</td>\n      <td>Трамп поздравил астронавта Пегги Уитсон с уста...</td>\n    </tr>\n  </tbody>\n</table>\n<p>519 rows × 2 columns</p>\n</div>"
     },
     "execution_count": 27,
     "metadata": {},
     "output_type": "execute_result"
    }
   ],
   "source": [
    "# Translate the labels to numbers\n",
    "df.entities = df.entities.apply(lambda x: [[s, e, label2num[l]]for s, e, l in x])\n",
    "df"
   ],
   "metadata": {
    "collapsed": false,
    "ExecuteTime": {
     "end_time": "2024-04-27T12:47:35.635369Z",
     "start_time": "2024-04-27T12:47:35.582454Z"
    }
   },
   "id": "ad527f298c782ae7",
   "execution_count": 27
  },
  {
   "cell_type": "code",
   "outputs": [],
   "source": [
    "df = df.drop([57, 322, 358]) # Drop unwanted sentences"
   ],
   "metadata": {
    "collapsed": false,
    "ExecuteTime": {
     "end_time": "2024-04-27T12:27:04.736019Z",
     "start_time": "2024-04-27T12:27:04.733731Z"
    }
   },
   "id": "c5d86b141eb02b10",
   "execution_count": 15
  },
  {
   "cell_type": "code",
   "outputs": [],
   "source": [
    "from transformers import AutoTokenizer\n",
    "\n",
    "# Load the tokenizer\n",
    "tokenizer = AutoTokenizer.from_pretrained(\"DeepPavlov/rubert-base-cased\")"
   ],
   "metadata": {
    "collapsed": false,
    "ExecuteTime": {
     "end_time": "2024-04-27T12:27:06.540640Z",
     "start_time": "2024-04-27T12:27:05.396104Z"
    }
   },
   "id": "4239f3e16b811576",
   "execution_count": 16
  },
  {
   "cell_type": "code",
   "outputs": [
    {
     "name": "stderr",
     "output_type": "stream",
     "text": [
      "100%|██████████| 519/519 [00:00<00:00, 716.65it/s]\n"
     ]
    }
   ],
   "source": [
    "def preprocess(text, entities):\n",
    "    tokens = []\n",
    "\n",
    "    def spans(txt):\n",
    "        \"\"\"\n",
    "        Split the text onto token spans in format (token, beginning index, end index)\n",
    "        \"\"\"\n",
    "        \n",
    "        # Tokenize and drop unknowns\n",
    "        tokens = tokenizer.tokenize(txt)\n",
    "        tokens = [token for token in tokens if token != \"[UNK]\"]\n",
    "\n",
    "        offset = 0\n",
    "        \n",
    "        # Find the spans\n",
    "        for token in tokens:\n",
    "\n",
    "            if token[:2] != \"##\":\n",
    "                offset = txt.find(token, offset)\n",
    "                length = len(token)\n",
    "            else:\n",
    "                offset = txt.find(token[2:], offset)\n",
    "                length = len(token) - 2\n",
    "\n",
    "            yield token, offset, offset+length\n",
    "            offset += length\n",
    "\n",
    "    # Check that all tokens are correct. Add them to list\n",
    "    for token in spans(text):\n",
    "        assert token[0][2:]==text[token[1]:token[2]] or token[0]==text[token[1]:token[2]], f\"{tokens}, {token}, {text}\"\n",
    "        tokens.append(token)\n",
    "    \n",
    "    # Add labels to each token\n",
    "    labels = []\n",
    "\n",
    "    for token, start, end in tokens:\n",
    "        tok_labels = []\n",
    "\n",
    "        for s, e, l in entities:\n",
    "            if start >= s and end<= e + 1:\n",
    "                if start == s: tok_labels.append(2*l)\n",
    "                else: tok_labels.append(2*l + 1)\n",
    "\n",
    "        labels.append(tok_labels)\n",
    "    return tokens, labels\n",
    "\n",
    "tokenized_texts, indices, labels = [], [], []\n",
    "\n",
    "# Preprocess the train data\n",
    "for _, row in tqdm(df.iterrows(), total=len(df)):\n",
    "    text, label = preprocess(row['text'], row['entities'])\n",
    "    index = [(w[1], w[2]) for w in text]\n",
    "    text = [w[0] for w in text]\n",
    "    tokenized_texts.append(text)\n",
    "    indices.append(index)\n",
    "    labels.append(label)"
   ],
   "metadata": {
    "collapsed": false,
    "ExecuteTime": {
     "end_time": "2024-04-27T12:50:41.192280Z",
     "start_time": "2024-04-27T12:50:40.455120Z"
    }
   },
   "id": "fcb6dd54b98483bd",
   "execution_count": 29
  },
  {
   "cell_type": "code",
   "outputs": [
    {
     "name": "stderr",
     "output_type": "stream",
     "text": [
      "100%|██████████| 65/65 [00:00<00:00, 1531.39it/s]\n"
     ]
    }
   ],
   "source": [
    "tokenized_texts_test = []\n",
    "test_indices = []\n",
    "\n",
    "# Preprocess the text data\n",
    "for _, row in tqdm(test.iterrows(), total=len(test)):\n",
    "    test_text, _ = preprocess(row['text'], row['entities'])\n",
    "    index = [(w[1], w[2]) for w in test_text]\n",
    "    text = [w[0] for w in test_text]\n",
    "    tokenized_texts_test.append(text)\n",
    "    test_indices.append(index)"
   ],
   "metadata": {
    "collapsed": false,
    "ExecuteTime": {
     "end_time": "2024-04-26T20:27:39.926213Z",
     "start_time": "2024-04-26T20:27:39.869867Z"
    }
   },
   "id": "6e00aa0b3fd6886a",
   "execution_count": 296
  },
  {
   "cell_type": "code",
   "outputs": [
    {
     "data": {
      "text/plain": "1521"
     },
     "execution_count": 30,
     "metadata": {},
     "output_type": "execute_result"
    }
   ],
   "source": [
    "# The maximal number of tokens in the text\n",
    "max(len(t) for t in tokenized_texts)"
   ],
   "metadata": {
    "collapsed": false,
    "ExecuteTime": {
     "end_time": "2024-04-27T12:50:43.360264Z",
     "start_time": "2024-04-27T12:50:43.352457Z"
    }
   },
   "id": "bf4ac69ace4b89d1",
   "execution_count": 30
  },
  {
   "cell_type": "code",
   "outputs": [
    {
     "name": "stderr",
     "output_type": "stream",
     "text": [
      "Some weights of the model checkpoint at DeepPavlov/rubert-base-cased were not used when initializing BertModel: ['cls.predictions.bias', 'cls.predictions.decoder.bias', 'cls.predictions.decoder.weight', 'cls.predictions.transform.LayerNorm.bias', 'cls.predictions.transform.LayerNorm.weight', 'cls.predictions.transform.dense.bias', 'cls.predictions.transform.dense.weight', 'cls.seq_relationship.bias', 'cls.seq_relationship.weight']\n",
      "- This IS expected if you are initializing BertModel from the checkpoint of a model trained on another task or with another architecture (e.g. initializing a BertForSequenceClassification model from a BertForPreTraining model).\n",
      "- This IS NOT expected if you are initializing BertModel from the checkpoint of a model that you expect to be exactly identical (initializing a BertForSequenceClassification model from a BertForSequenceClassification model).\n"
     ]
    }
   ],
   "source": [
    "from transformers import pipeline\n",
    "import torch\n",
    "\n",
    "# Load the pretrained model for feature extraction\n",
    "pretrained = pipeline(\"feature-extraction\", model=\"DeepPavlov/rubert-base-cased\", device=\"cuda\")"
   ],
   "metadata": {
    "collapsed": false,
    "ExecuteTime": {
     "end_time": "2024-04-26T20:27:40.598594Z",
     "start_time": "2024-04-26T20:27:39.929611Z"
    }
   },
   "id": "20378a5a9d9a512a",
   "execution_count": 298
  },
  {
   "cell_type": "code",
   "outputs": [
    {
     "data": {
      "text/plain": "'[PAD]'"
     },
     "execution_count": 299,
     "metadata": {},
     "output_type": "execute_result"
    }
   ],
   "source": [
    "# Find the pad index\n",
    "{v:k for k, v in tokenizer.vocab.items()}[0]"
   ],
   "metadata": {
    "collapsed": false,
    "ExecuteTime": {
     "end_time": "2024-04-26T20:27:40.633057Z",
     "start_time": "2024-04-26T20:27:40.599261Z"
    }
   },
   "id": "59a612cf80e530a",
   "execution_count": 299
  },
  {
   "cell_type": "code",
   "outputs": [],
   "source": [
    "texts = []\n",
    "lbl = []\n",
    "split = []\n",
    "masks = []\n",
    "\n",
    "# Split the data to length 510 (pretrained model input dimensionality is 512)\n",
    "for t, l in zip(tokenized_texts, labels):\n",
    "    for s in range(3):\n",
    "        # Pad the sentences\n",
    "        mask = [1] * len(t) + [0] * (510 - len(t))\n",
    "        t = t + [\"[PAD]\"] * (510 - len(t))\n",
    "        l = l + [[]] * (510 - len(l))\n",
    "            \n",
    "        texts.append(t[:510])\n",
    "        lbl.append(l[:510])\n",
    "        split.append(s)\n",
    "        masks.append(mask[:510])\n",
    "        \n",
    "        # If the sentence is too long, split to several parts\n",
    "        if len(t) > 510:\n",
    "            t = t[510:]\n",
    "            l = l[510:]\n",
    "        else:\n",
    "            break"
   ],
   "metadata": {
    "collapsed": false,
    "ExecuteTime": {
     "end_time": "2024-04-26T20:27:40.658726Z",
     "start_time": "2024-04-26T20:27:40.633649Z"
    }
   },
   "id": "fa8fcfb59c5d1d02",
   "execution_count": 300
  },
  {
   "cell_type": "code",
   "outputs": [],
   "source": [
    "test_texts = []\n",
    "test_split = []\n",
    "test_masks = []\n",
    "\n",
    "# preprocess the text data the same way, but without labels\n",
    "for t in (tokenized_texts_test):\n",
    "    for s in range(3):\n",
    "        mask = [1] * len(t) + [0] * (510 - len(t))\n",
    "        t = t + [\"[PAD]\"] * (510 - len(t))\n",
    "\n",
    "        test_texts.append(t[:510])\n",
    "        test_split.append(s)\n",
    "        test_masks.append(mask[:510])\n",
    "\n",
    "        if len(t) > 510:\n",
    "            t = t[510:]\n",
    "        else:\n",
    "            break"
   ],
   "metadata": {
    "collapsed": false,
    "ExecuteTime": {
     "end_time": "2024-04-26T20:27:40.666918Z",
     "start_time": "2024-04-26T20:27:40.659408Z"
    }
   },
   "id": "633602beb1b6f57e",
   "execution_count": 301
  },
  {
   "cell_type": "code",
   "outputs": [
    {
     "data": {
      "text/plain": "torch.Size([648, 510, 58])"
     },
     "execution_count": 302,
     "metadata": {},
     "output_type": "execute_result"
    }
   ],
   "source": [
    "# Convert the labels to a OneHot (?) tensor\n",
    "\n",
    "label_tensor = torch.zeros((len(lbl), 510, len(label2num) * 2))\n",
    "\n",
    "for i, labels in enumerate(lbl):\n",
    "    for j, tok in enumerate(labels):\n",
    "        for k in tok:\n",
    "            label_tensor[i, j, k] = 1\n",
    "            \n",
    "label_tensor = label_tensor.to(\"cuda\")\n",
    "label_tensor.shape"
   ],
   "metadata": {
    "collapsed": false,
    "ExecuteTime": {
     "end_time": "2024-04-26T20:27:40.917466Z",
     "start_time": "2024-04-26T20:27:40.668507Z"
    }
   },
   "id": "913c137dc39d945e",
   "execution_count": 302
  },
  {
   "cell_type": "code",
   "outputs": [
    {
     "data": {
      "text/plain": "torch.Size([648])"
     },
     "execution_count": 303,
     "metadata": {},
     "output_type": "execute_result"
    }
   ],
   "source": [
    "# Convert masks to tensors\n",
    "mask_tensor = torch.tensor([sum(m) for m in masks], dtype=torch.long, device=\"cuda\")\n",
    "mask_tensor.shape"
   ],
   "metadata": {
    "collapsed": false,
    "ExecuteTime": {
     "end_time": "2024-04-26T20:27:40.921410Z",
     "start_time": "2024-04-26T20:27:40.918244Z"
    }
   },
   "id": "659d0e7c03e61dfb",
   "execution_count": 303
  },
  {
   "cell_type": "code",
   "outputs": [],
   "source": [
    "# Reconstruct the strings back\n",
    "input_texts = [tokenizer.convert_tokens_to_string(t) for t in texts]"
   ],
   "metadata": {
    "collapsed": false,
    "ExecuteTime": {
     "end_time": "2024-04-26T20:27:41.092188Z",
     "start_time": "2024-04-26T20:27:40.921813Z"
    }
   },
   "id": "be3c136162ad4ed6",
   "execution_count": 304
  },
  {
   "cell_type": "code",
   "outputs": [
    {
     "name": "stderr",
     "output_type": "stream",
     "text": [
      "100%|██████████| 67/67 [00:00<00:00, 4064.72it/s]\n"
     ]
    }
   ],
   "source": [
    "# Reconstruct the text strings back\n",
    "input_texts_test = [tokenizer.convert_tokens_to_string(t) for t in tqdm(test_texts)]"
   ],
   "metadata": {
    "collapsed": false,
    "ExecuteTime": {
     "end_time": "2024-04-26T20:27:41.111475Z",
     "start_time": "2024-04-26T20:27:41.092743Z"
    }
   },
   "id": "d9f4718dd8160c46",
   "execution_count": 305
  },
  {
   "cell_type": "markdown",
   "source": [
    "# Data modeling"
   ],
   "metadata": {
    "collapsed": false
   },
   "id": "a77a7ac1336bf2c5"
  },
  {
   "cell_type": "code",
   "outputs": [],
   "source": [
    "import torch.nn as nn\n",
    "\n",
    "class NERBertModel(nn.Module):\n",
    "\n",
    "    def __init__(self, bert):\n",
    "        super(NERBertModel, self).__init__()\n",
    "        self.num_tag = 58\n",
    "        self.bert = bert\n",
    "        self.bert_drop = nn.Dropout(0.3)\n",
    "        self.out_tag = nn.Linear(768, self.num_tag)\n",
    "        self.sigma = nn.Sigmoid()\n",
    "        self.conv = nn.Conv2d(in_channels=1, out_channels=1, kernel_size=5, padding=2)\n",
    "        self.tanh = nn.Tanh()\n",
    "\n",
    "    def forward(self, string):\n",
    "        output = self.bert(string, return_tensors=True)[0, 1:-1].to(\"cuda\")\n",
    "        bert_out = self.bert_drop(output)\n",
    "        tag = self.out_tag(bert_out)\n",
    "        tag = self.tanh(tag)\n",
    "        tag = self.conv(tag.unsqueeze(0))\n",
    "        return self.sigma(tag.squeeze())"
   ],
   "metadata": {
    "collapsed": false,
    "ExecuteTime": {
     "end_time": "2024-04-26T20:27:41.114294Z",
     "start_time": "2024-04-26T20:27:41.111924Z"
    }
   },
   "id": "ceba72991045d2b6",
   "execution_count": 306
  },
  {
   "cell_type": "code",
   "outputs": [],
   "source": [
    "# Create the model\n",
    "model = NERBertModel(pretrained).to(\"cuda\")"
   ],
   "metadata": {
    "collapsed": false,
    "ExecuteTime": {
     "end_time": "2024-04-26T20:36:31.347400Z",
     "start_time": "2024-04-26T20:36:31.344313Z"
    }
   },
   "id": "1427eedb569f7e8e",
   "execution_count": 320
  },
  {
   "cell_type": "code",
   "outputs": [],
   "source": [
    "from sklearn.model_selection import train_test_split\n",
    "\n",
    "# Split the data onto train and validation\n",
    "x_train, x_val, y_train, y_val, mask_tensor_train, mask_tensor_val = train_test_split(input_texts, label_tensor, mask_tensor, test_size=0.1, random_state=42)"
   ],
   "metadata": {
    "collapsed": false,
    "ExecuteTime": {
     "end_time": "2024-04-26T20:36:31.498218Z",
     "start_time": "2024-04-26T20:36:31.495276Z"
    }
   },
   "id": "90897bb8c405da6b",
   "execution_count": 321
  },
  {
   "cell_type": "code",
   "outputs": [
    {
     "name": "stdout",
     "output_type": "stream",
     "text": [
      "Epoch: 0 Loss: 0.06861910015563077\n",
      "Test Loss: 0.042181591775554875\n",
      "Epoch: 1 Loss: 0.031765990085715866\n",
      "Test Loss: 0.030679252113287266\n",
      "Epoch: 2 Loss: 0.026429762686516537\n",
      "Test Loss: 0.026954111800743984\n",
      "Epoch: 3 Loss: 0.022759301349359714\n",
      "Test Loss: 0.02320038204869399\n",
      "Epoch: 4 Loss: 0.02008292455579022\n",
      "Test Loss: 0.02101016531770046\n",
      "Epoch: 5 Loss: 0.017930646425718153\n",
      "Test Loss: 0.019167961051257756\n",
      "Epoch: 6 Loss: 0.01623033949268844\n",
      "Test Loss: 0.017754951004798597\n",
      "Epoch: 7 Loss: 0.01491816083481679\n",
      "Test Loss: 0.01631904085381673\n",
      "Epoch: 8 Loss: 0.013641330495352403\n",
      "Test Loss: 0.015456236540698089\n",
      "Epoch: 9 Loss: 0.012635731673655733\n",
      "Test Loss: 0.014597091830980319\n",
      "Epoch: 10 Loss: 0.01200220533383451\n",
      "Test Loss: 0.014184948852142462\n",
      "Epoch: 11 Loss: 0.011473501732347987\n",
      "Test Loss: 0.01369384890064024\n",
      "Epoch: 12 Loss: 0.01110381105940582\n",
      "Test Loss: 0.013583612925587938\n",
      "Epoch: 13 Loss: 0.010869104606778516\n",
      "Test Loss: 0.013529474367029393\n",
      "Epoch: 14 Loss: 0.010849523070264919\n",
      "Test Loss: 0.013427465932013896\n",
      "Epoch: 15 Loss: 0.010688099776899312\n",
      "Test Loss: 0.01360174477673494\n",
      "Epoch: 16 Loss: 0.010540761603929971\n",
      "Test Loss: 0.013554246626937619\n",
      "Epoch: 17 Loss: 0.010435994443536468\n",
      "Test Loss: 0.013451003938770065\n",
      "Epoch: 18 Loss: 0.010413416349870709\n",
      "Test Loss: 0.013089954623809227\n",
      "Epoch: 19 Loss: 0.010327720473368471\n",
      "Test Loss: 0.013443922584589858\n",
      "Epoch: 20 Loss: 0.010259212540404405\n",
      "Test Loss: 0.013495041150599718\n",
      "Epoch: 21 Loss: 0.010175487873502677\n",
      "Test Loss: 0.013131764266066825\n",
      "Epoch: 22 Loss: 0.010152741241777952\n",
      "Test Loss: 0.013159381985091246\n",
      "Epoch: 23 Loss: 0.010177254089565978\n",
      "Test Loss: 0.013265612764427295\n",
      "Epoch: 24 Loss: 0.010118981301477308\n",
      "Test Loss: 0.013346403418108822\n",
      "Epoch: 25 Loss: 0.010068657939309897\n",
      "Test Loss: 0.013194566653468288\n",
      "Epoch: 26 Loss: 0.010076648976264327\n",
      "Test Loss: 0.013314254177161134\n",
      "Epoch: 27 Loss: 0.00996943522023898\n",
      "Test Loss: 0.013344739947038201\n",
      "Epoch: 28 Loss: 0.009941845222154954\n",
      "Test Loss: 0.013199488306418062\n",
      "Epoch: 29 Loss: 0.010008291146485495\n",
      "Test Loss: 0.013358633693021078\n",
      "Epoch: 30 Loss: 0.009929930565232536\n",
      "Test Loss: 0.01313252098356875\n",
      "Epoch: 31 Loss: 0.009957734361919\n",
      "Test Loss: 0.013554245656212936\n",
      "Epoch: 32 Loss: 0.009972058948452612\n",
      "Test Loss: 0.012995621289771336\n",
      "Epoch: 33 Loss: 0.009852938862726054\n",
      "Test Loss: 0.013205361273139715\n",
      "Epoch: 34 Loss: 0.009913611366407426\n",
      "Test Loss: 0.013052603856732067\n",
      "Epoch: 35 Loss: 0.00985184327860393\n",
      "Test Loss: 0.013092003175272392\n",
      "Epoch: 36 Loss: 0.009782810477235565\n",
      "Test Loss: 0.013403361168904946\n",
      "Epoch: 37 Loss: 0.00977184706284283\n",
      "Test Loss: 0.013108171433067093\n",
      "Epoch: 38 Loss: 0.00981284097614673\n",
      "Test Loss: 0.013520835691060011\n",
      "Epoch: 39 Loss: 0.00985935958905665\n",
      "Test Loss: 0.013236171949224976\n",
      "Epoch: 40 Loss: 0.009833512966805655\n",
      "Test Loss: 0.013109323242679239\n",
      "Epoch: 41 Loss: 0.00978367905810484\n",
      "Test Loss: 0.01338987028799378\n",
      "Epoch: 42 Loss: 0.009808854955455316\n",
      "Test Loss: 0.013116338283110124\n",
      "Epoch: 43 Loss: 0.009769246838734461\n",
      "Test Loss: 0.013402108411089733\n",
      "Epoch: 44 Loss: 0.009833853214859342\n",
      "Test Loss: 0.013428074071327081\n",
      "Epoch: 45 Loss: 0.009780589587962036\n",
      "Test Loss: 0.013045579535313524\n",
      "Epoch: 46 Loss: 0.009745758520413218\n",
      "Test Loss: 0.013151992330900752\n",
      "Epoch: 47 Loss: 0.00974080368052208\n",
      "Test Loss: 0.013282772726737536\n",
      "Epoch: 48 Loss: 0.009776520417582094\n",
      "Test Loss: 0.01318084612273826\n",
      "Epoch: 49 Loss: 0.00977209007360665\n",
      "Test Loss: 0.013373397269214575\n"
     ]
    }
   ],
   "source": [
    "from torch.optim import Adam\n",
    "\n",
    "# Initialize the loss and optimizer\n",
    "criterion = nn.BCELoss()\n",
    "optimizer = Adam(model.parameters())\n",
    "\n",
    "n_epochs = 50\n",
    "best_loss = 10000.0\n",
    "\n",
    "# Train the model\n",
    "model.train()\n",
    "for epoch in range(n_epochs):\n",
    "    epoch_loss = 0.0\n",
    "    bar = zip(x_train, y_train, mask_tensor_train)\n",
    "    \n",
    "    # Train loop (batching not supported due to pretrained pipeline limitations)\n",
    "    for text, label, mask in bar:\n",
    "        optimizer.zero_grad()\n",
    "        output = model(text)\n",
    "        output = output[:mask]\n",
    "        label = label[:mask]\n",
    "        loss = criterion(output, label)\n",
    "        \n",
    "        loss.backward()\n",
    "        \n",
    "        optimizer.step()\n",
    "        epoch_loss += loss.item()\n",
    "    \n",
    "    print(\"Epoch: {} Loss: {}\".format(epoch, epoch_loss / len(input_texts)))\\\n",
    "    \n",
    "    # Validate the model\n",
    "    test_loss = 0\n",
    "    with torch.no_grad():\n",
    "        for text, label, mask in zip(x_val, y_val, mask_tensor_val):\n",
    "            output = model(text)\n",
    "            output = output[:mask]\n",
    "            label = label[:mask]\n",
    "            loss = criterion(output, label)\n",
    "            test_loss += loss.item()\n",
    "    print(\"Test Loss: {}\".format(test_loss / len(x_val)))\n",
    "    \n",
    "    if test_loss < best_loss:\n",
    "        best_loss = test_loss\n",
    "        torch.save(model, 'best.pt')"
   ],
   "metadata": {
    "collapsed": false,
    "ExecuteTime": {
     "end_time": "2024-04-26T20:40:26.602749Z",
     "start_time": "2024-04-26T20:36:31.654718Z"
    }
   },
   "id": "c1529f100c2ccfb7",
   "execution_count": 322
  },
  {
   "cell_type": "code",
   "outputs": [],
   "source": [
    "# Load the best model\n",
    "model = torch.load('best.pt')"
   ],
   "metadata": {
    "collapsed": false,
    "ExecuteTime": {
     "end_time": "2024-04-27T12:58:46.725023Z",
     "start_time": "2024-04-27T12:58:46.722921Z"
    }
   },
   "id": "164520515556f539",
   "execution_count": 32
  },
  {
   "cell_type": "code",
   "outputs": [],
   "source": [
    "import numpy as np\n",
    "\n",
    "test_ents = []\n",
    "\n",
    "# Load the predictions for the test data\n",
    "with torch.no_grad():\n",
    "    for text in input_texts_test:\n",
    "        output = model(text)\n",
    "        output = output.detach().cpu().numpy().round()\n",
    "        resl = []\n",
    "\n",
    "        for s in output:\n",
    "            resl.append(np.where(s > 0.5)[0].tolist())\n",
    "        test_ents.append(resl)"
   ],
   "metadata": {
    "collapsed": false,
    "ExecuteTime": {
     "end_time": "2024-04-26T21:13:12.168479Z",
     "start_time": "2024-04-26T21:13:11.631372Z"
    }
   },
   "id": "8c9d8e819ceef8ce",
   "execution_count": 370
  },
  {
   "cell_type": "code",
   "outputs": [],
   "source": [
    "#  Remove predictions for paddings\n",
    "test_labels = [[x for x, y in zip(test_ents[i], test_masks[i]) if y] for i in range(len(test_ents))]"
   ],
   "metadata": {
    "collapsed": false,
    "ExecuteTime": {
     "end_time": "2024-04-26T21:13:12.172578Z",
     "start_time": "2024-04-26T21:13:12.169300Z"
    }
   },
   "id": "fe48c3295c7eacf6",
   "execution_count": 371
  },
  {
   "cell_type": "code",
   "outputs": [],
   "source": [
    "to_del = []\n",
    "\n",
    "# Join the sentences that were split\n",
    "for i in range(len(test_split)):\n",
    "    if test_split[i] > 0:\n",
    "        test_labels[i-test_split[i]] += test_labels[i]\n",
    "        to_del.append(i)\n",
    "\n",
    "# Remove the sentences that are not the beginning\n",
    "for i in range(len(to_del)):\n",
    "    del test_labels[to_del[i] - i]"
   ],
   "metadata": {
    "collapsed": false,
    "ExecuteTime": {
     "end_time": "2024-04-26T21:13:12.287190Z",
     "start_time": "2024-04-26T21:13:12.285031Z"
    }
   },
   "id": "a3a36ce0288303f",
   "execution_count": 372
  },
  {
   "cell_type": "code",
   "outputs": [],
   "source": [
    "answer = []\n",
    "\n",
    "# Convert the predictions to the Codalab format\n",
    "for i in range(len(test_labels)):\n",
    "    tl = list(zip(test_labels[i], test_indices[i]))\n",
    "    lbls = []\n",
    "    label_dict = {}\n",
    "    \n",
    "    # Convert the labels to their text representation\n",
    "    for l, _ in tl:\n",
    "        for i in range(len(l)):\n",
    "            l[i] = list(label2num.keys())[l[i]//2]\n",
    "    \n",
    "    # Convert the labels from token-wise to spans\n",
    "    for i, (l, ind) in enumerate(tl):\n",
    "        for lb in l:\n",
    "            if lb not in label_dict:\n",
    "                label_dict[lb] = [ind[0], ind[1]]\n",
    "            elif lb not in tl[i-1][0]:\n",
    "                lbls.append([lb, label_dict[lb][0], label_dict[lb][1]])\n",
    "                label_dict[lb] = [ind[0], ind[1]]\n",
    "            else:\n",
    "                label_dict[lb][1] = ind[1]\n",
    "    \n",
    "    for k, v in label_dict.items():\n",
    "        lbls.append([k, v[0], v[1]])\n",
    "    \n",
    "    answer.append(lbls)"
   ],
   "metadata": {
    "collapsed": false,
    "ExecuteTime": {
     "end_time": "2024-04-26T21:13:14.129152Z",
     "start_time": "2024-04-26T21:13:14.119390Z"
    }
   },
   "id": "59feecc6a3bb69d5",
   "execution_count": 376
  },
  {
   "cell_type": "code",
   "outputs": [],
   "source": [
    "# Save the predictions\n",
    "with open(\"result.jsonl\", \"w\") as f:\n",
    "    for i, id in enumerate(test.index):\n",
    "        a = [[e[1], e[2]-1, e[0]] for e in answer[i]]\n",
    "        f.write(f\"{'{'}'ners': {a}, 'id': {id}{'}'}\\n\")"
   ],
   "metadata": {
    "collapsed": false,
    "ExecuteTime": {
     "end_time": "2024-04-26T21:28:26.729712Z",
     "start_time": "2024-04-26T21:28:26.717246Z"
    }
   },
   "id": "6b44f2b6ae4e501c",
   "execution_count": 396
  }
 ],
 "metadata": {
  "kernelspec": {
   "display_name": "Python 3",
   "language": "python",
   "name": "python3"
  },
  "language_info": {
   "codemirror_mode": {
    "name": "ipython",
    "version": 2
   },
   "file_extension": ".py",
   "mimetype": "text/x-python",
   "name": "python",
   "nbconvert_exporter": "python",
   "pygments_lexer": "ipython2",
   "version": "2.7.6"
  }
 },
 "nbformat": 4,
 "nbformat_minor": 5
}
