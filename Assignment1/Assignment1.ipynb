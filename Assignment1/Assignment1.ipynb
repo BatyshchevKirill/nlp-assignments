{
  "cells": [
    {
      "cell_type": "markdown",
      "metadata": {
        "collapsed": false,
        "id": "eswCv9SVf5-m"
      },
      "source": [
        "# [NLP] Assignment 1: Tokenization\n",
        "\n",
        "In this assignment, you need to tokenize the text of the Twitter(X) users posts(tweets). The assignment consists of two tasks. When you finish all the tasks, create a GitHub repository for this assignment (you can use this repo later for the other assignments) and submit this notebook in the repository. Leave `requirements.txt` file if your code requires additional installations. Submit the link to the repository in Moodle.\n",
        "\n",
        "The [data](https://drive.google.com/file/d/15x_wPAflvYQ2Xh38iNQGrqUIWLj5l5Nw/view?usp=share_link) contains 5 files whereby each contains 44 tweets. Each tweet is separated by a newline."
      ]
    },
    {
      "cell_type": "markdown",
      "metadata": {
        "collapsed": false,
        "id": "iGMpoO6hf5-p"
      },
      "source": [
        "## Task 1. Tokenize some tweets manually (20 points)\n",
        "\n",
        "As a first task you need to tokenize first 15 tweets from `file2` by hand. This will allow you to understand the problem from a linguistic point of view. The guidelines for tweet tokenization are as follows:\n",
        "\n",
        "- Each smiley is a separate token\n",
        "- Each hashtag is an individual token. Each user reference is an individual token\n",
        "- If a word has spaces between them then it is converted to a single token\n",
        "- All punctuations are individual tokens. This includes double-quotes and single quotes also\n",
        "- A URL is a single token\n",
        "\n",
        "Example of output\n",
        "\n",
        "    Input tweet\n",
        "    @xfranman Old age has made N A T O!\n",
        "\n",
        "    Tokenized tweet (separated by comma)\n",
        "    @xfranman , Old , age , has , made , NATO , !"
      ]
    },
    {
      "cell_type": "markdown",
      "metadata": {
        "id": "7KKKwTidnzUw"
      },
      "source": [
        "```\n",
        "1. Input tweet\n",
        "Camping in Maine for the weekend. Hey Dad, Mama Loves YOU: http://www.mamapalooza.com\n",
        "\n",
        "1. Tokenized tweet\n",
        "Camping, in, Maine, for, the, weekend, ., Hey, Dad, ,, Mama, Loves, YOU, :, http://www.mamapalooza.com\n",
        "\n",
        "2. Input tweet\n",
        "Its american tradition bitch\n",
        "\n",
        "2. Tokenized tweet\n",
        "Its, american, tradition, bitch\n",
        "\n",
        "3. Input tweet\n",
        "@ThroughTheVoid They love it! The only pleasure they get in life. I actually do that. I'm sure I hear a tiny squeak... Then louder ones\n",
        "\n",
        "3. Tokenized tweet\n",
        "@ThroughTheVoid, They, love, it, !, The, only, pleasure, they, get, in, life, ., I, actually, do, that, ., I, ', m, sure, I, hear, a, tiny, squeak, ..., Then, louder, ones\n",
        "\n",
        "4. Input tweet\n",
        "\" RT @latti: @AbsoHilare stop tweeting in church! Lol <--- \"\"I tweet because I'm happy, I tweet because I'm free\"\" LOL!\"\n",
        "\n",
        "4. Tokenized tweet\n",
        "\", RT, @latti, :, @AbsoHilare, stop, tweeting, in, church, !, Lol, <---, \", \", I, tweet, because, I, ', m, happy, ,, I, tweet, because, I, ', m, free, \", \", LOL, !, \"\n",
        "\n",
        "5. Input tweet\n",
        "Samsung Mini S2 portable HDD graced with colors that perfectly match your tacky beach gear: Sammy's done it aga.. http://tinyurl.com/lb5p6m\n",
        "\n",
        "5. Tokenized tweet\n",
        "Samsung, Mini, S2, portable, HDD, graced, with, colors, that, perfectly, match, your, tacky, beach, gear, :, Sammy, ', s, done, it, aga, .., http://tinyurl.com/lb5p6m\n",
        "\n",
        "6. Input tweet\n",
        "@dialloc congrats on finding your way over. it may be slow going at first. hang in there. it's kinda cool when u get up to speed.\n",
        "\n",
        "6. Tokenized tweet\n",
        "@dialloc, congrats, on, finding, your, way, over, ., it, may, be, slow, going, at, first, ., hang, in, there, ., it, ', s, kinda, cool, when, u, get, up, to, speed, .\n",
        "\n",
        "7. Input tweet\n",
        "iPhone activation delays continue, Apple offers $30 http://twt.gs/l3Ki\n",
        "\n",
        "7. Tokenized tweet\n",
        "iPhone, activation, delays, continue, ,, Apple, offers, $, 30, http://twt.gs/l3Ki\n",
        "8.\n",
        "8. Input tweet\n",
        "RT @GoogleAtWork Gmail maximum attachment size now 25MB http://bit.ly/62mjw Nice!!!\n",
        "\n",
        "8. Tokenized tweet\n",
        "RT, @GoogleAtWork, Gmail, maximum, attachment, size, now, 25, MB, http://bit.ly/62mjw, Nice, !, !, !\n",
        "\n",
        "9. Input tweet\n",
        "RT @acfou The Ads Won Awards for Crispin; But Did Nothing for Client BurgerKing's Sales/Marketshare - Big Surprise - http://ping.fm/vw8TI\n",
        "\n",
        "9. Tokenized tweet\n",
        "RT, @acfou, The, Ads, Won, Awards, for, Crispin, ;, But, Did, Nothing, for, Client, BurgerKing, ', s, Sales, /, Marketshare, -, Big, Surprise, -, http://ping.fm/vw8TI\n",
        "\n",
        "10. Input tweet\n",
        "Hey doll! Great I missed True Blood yday boo lol Rt @FrankBanuat78 @jhillstephens Hello Sunshine how are u today? :-)\n",
        "\n",
        "10. Tokenized tweet\n",
        "Hey, doll, !, Great, I, missed, True, Blood, yday, boo, lol, Rt, @FrankBanuat78, @jhillstephens, Hello, Sunshine, how, are, u, today, ?, :-)\n",
        "\n",
        "11. Input tweet\n",
        "Australian artist Pogo made these free songs primarily from sampled audio from Alice In Wonderland. http://www.last.fm/music/Pogo/Wonderland\n",
        "\n",
        "11. Tokenized tweet\n",
        "Australian, artist, Pogo, made, these, free, songs, primarily, from, sampled, audio, from, Alice, In, Wonderland, ., http://www.last.fm/music/Pogo/Wonderland\n",
        "\n",
        "12. Input tweet\n",
        "@mppritchard they wanted to sell all the preorders & then sell all of the ones they had in stock to those that just walked in. Can't do both\n",
        "\n",
        "12. Tokenized tweet\n",
        "@mppritchard, they, wanted, to, sell, all, the, preorders, &, then, sell, all, of, the, ones, they, had, in, stock, to, those, that, just, walked, in, ., Can, ', t, do, both\n",
        "\n",
        "13. Input tweet\n",
        "Incoming: Frightened Rabbit, Sept. 22 (Tucson): If Fat Cat Records is going to send three great bands from Scot.. http://tinyurl.com/nz6xcv\n",
        "\n",
        "13. Tokenized tweet\n",
        "Incoming, :, Frightened, Rabbit, ,, Sept, ., 22, (, Tucson, ), :, If, Fat, Cat, Records, is, going, to, send, three, great, bands, from, Scot, .., http://tinyurl.com/nz6xcv\n",
        "\n",
        "14. Input tweet\n",
        "Hey @ginoandfran please greet philip! (GinoandFran live > http://ustre.am/2YyQ)\n",
        "\n",
        "14. Tokenized tweet\n",
        "Hey, @ginoandfran, please, greet, philip, !, (, GinoandFran, live, >, http://ustre.am/2YyQ, )\n",
        "\n",
        "15, Input tweet\n",
        "Ik weet niet wie er achter de T-Mobile iPhone Twitter zit maar ik vind het niet echt 'corporate' taalgebruik... Best vreemd eigenlijk\n",
        "\n",
        "15, Tokenized tweet\n",
        "Ik, weet, niet, wie, er, achter, de, T-Mobile, iPhone, Twitter, zit, maar, ik, vind, het, niet, echt, ', corporate, ', taalgebruik, ..., Best, vreemd, eigenlijk\n",
        "```"
      ]
    },
    {
      "cell_type": "markdown",
      "metadata": {
        "id": "-2J2AD2nmUhi"
      },
      "source": [
        "## Task 2. Implement [Byte-Pair Encoding(BPE)](https://arxiv.org/pdf/1508.07909.pdf) Tokenizer (80 points)\n",
        "\n",
        "### Task 2.1. Implementation (60 points)\n",
        "\n",
        "Implement the tokenizer as the BPETokenizer class:\n",
        "* Implement `train` method that learns merges and builds the vocabulary of the specified `vocab_size` (25 points).\n",
        "* Implement `tokenize` method that should tokenize the text according to the learnt merges (25 points).\n",
        "\n",
        "Your code should have docstrings and comments (10 points)."
      ]
    },
    {
      "cell_type": "code",
      "execution_count": 1,
      "metadata": {
        "id": "TUhmX6iVf5-r"
      },
      "outputs": [],
      "source": [
        "from collections import Counter\n",
        "from typing import List, Tuple\n",
        "\n",
        "class BPETokenizer:\n",
        "    \"\"\"\n",
        "    Byte Pair Encoding (BPE) Tokenizer class for vocabulary creation and\n",
        "    text tokenization.\n",
        "    \"\"\"\n",
        "\n",
        "    def __init__(self, vocab_size: int) -> None:\n",
        "        \"\"\"\n",
        "        Initializes the BPETokenizer with a specified vocabulary size.\n",
        "\n",
        "        Parameters:\n",
        "        - vocab_size (int): The desired size of the vocabulary.\n",
        "        \"\"\"\n",
        "        self.vocab_size = vocab_size\n",
        "        self.vocab = []\n",
        "\n",
        "    def popular_bigram(self, corpus: List[str]) -> Tuple[str, str]:\n",
        "        \"\"\"\n",
        "        Finds the most popular bigram in the given corpus, excluding bigrams\n",
        "        starting with '_' (parts of different words cannot be a part of single\n",
        "        token).\n",
        "\n",
        "        Parameters:\n",
        "        - corpus (List[str]): A list of strings representing the corpus.\n",
        "\n",
        "        Returns:\n",
        "        Tuple[str, str]: The most popular bigram as a tuple of two consecutive\n",
        "        characters.\n",
        "        \"\"\"\n",
        "        bigrams = Counter()\n",
        "\n",
        "        for i in range(len(corpus) - 1):\n",
        "            # Count bigrams except for multiword ones\n",
        "            if corpus[i][-1] != \"_\":\n",
        "                bigrams[tuple(corpus[i:i+2])] += 1\n",
        "\n",
        "        # Return most popular bigram if there is any\n",
        "        ret = bigrams.most_common(1)\n",
        "        return ret[0][0] if len(ret) else None\n",
        "\n",
        "    def train(self, corpus: List[str]) -> None:\n",
        "        \"\"\"\n",
        "        Trains the tokenizer on the given corpus to create a vocabulary.\n",
        "\n",
        "        Parameters:\n",
        "        - corpus (List[str]): A list of strings representing the training corpus.\n",
        "        \"\"\"\n",
        "        # Prepare the corpus\n",
        "        corpus = \" \".join(corpus)\n",
        "        corpus = [*(\"_\".join(corpus.split()) + \"_\")]\n",
        "        size = len(set(corpus))\n",
        "\n",
        "        # Add tokens to the vocabulary until we reach vocab_size\n",
        "        for k in range(size, self.vocab_size):\n",
        "            bigram = self.popular_bigram(corpus)\n",
        "\n",
        "            # Break if no new bigrams were found\n",
        "            if bigram is None:\n",
        "                break\n",
        "\n",
        "            # Add bigram to vocabulary\n",
        "            self.vocab.append(bigram)\n",
        "\n",
        "            # Replace the bigrams by new token\n",
        "            token = \"\".join(bigram)\n",
        "            i = 0\n",
        "            while i < len(corpus) - 1:\n",
        "                if corpus[i] == bigram[0] and corpus[i+1] == bigram[1]:\n",
        "                    del corpus[i+1]\n",
        "                    corpus[i] = token\n",
        "                i += 1\n",
        "\n",
        "    def tokenize(self, text: str) -> List[str]:\n",
        "        \"\"\"\n",
        "        Tokenizes the input text using the vocabulary learned during training.\n",
        "\n",
        "        Parameters:\n",
        "        - text (str): The input text to be tokenized.\n",
        "\n",
        "        Returns:\n",
        "        List[str]: A list of tokens generated from the input text.\n",
        "        \"\"\"\n",
        "        # Prepare the text\n",
        "        text = [*(\"_\".join(text.split()) + \"_\")]\n",
        "\n",
        "        # Replace all known bigrams in the learnt order\n",
        "        for bigram in self.vocab:\n",
        "            token = \"\".join(bigram)\n",
        "            i = 0\n",
        "\n",
        "            # Replace all occurences of the bigram by the corresponding token\n",
        "            while i < len(text) - 1:\n",
        "                if text[i] == bigram[0] and text[i+1] == bigram[1]:\n",
        "                    del text[i+1]\n",
        "                    text[i] = token\n",
        "                i += 1\n",
        "\n",
        "        return text\n"
      ]
    },
    {
      "cell_type": "markdown",
      "metadata": {
        "id": "8L9O40KSE-kl"
      },
      "source": [
        "Test with example from the lecture"
      ]
    },
    {
      "cell_type": "code",
      "execution_count": 2,
      "metadata": {
        "colab": {
          "base_uri": "https://localhost:8080/"
        },
        "id": "4N69eDI6rCQx",
        "outputId": "ef5407b4-6dae-4bd5-da2a-dc44833f2418"
      },
      "outputs": [
        {
          "output_type": "stream",
          "name": "stdout",
          "text": [
            "['newer_', 'low', 'er_']\n"
          ]
        }
      ],
      "source": [
        "corpus = [\"low low low low low lowest lowest newer newer newer newer newer newer wider wider wider new new\"]\n",
        "bpe = BPETokenizer(8 + len(set(corpus[0])))\n",
        "bpe.train(corpus)\n",
        "\n",
        "print(bpe.tokenize(\"newer lower\"))"
      ]
    },
    {
      "cell_type": "markdown",
      "metadata": {
        "id": "K9m92_-Vf5-s"
      },
      "source": [
        "### Task 2.2. Analysis on Tweets Dataset (10 points)\n",
        "\n",
        "Train the BPE tokenizer on the tweets dataset. Try to tokenize the tweets with the tokenizer of different `vocab_size`. For example, train the BPE tokenizer with `vocab_size` of [base_vocab_size, 250, 500, 750, 1000]. Plot the dependency of the average length of the tokenized tweet by `vocab_size` to analyze how `vocab_size` affects the length of the tokenized tweet on average. Tell what `vocab_size` is preferrable and why."
      ]
    },
    {
      "cell_type": "code",
      "execution_count": 5,
      "metadata": {
        "id": "tBPaFQXzf5-s"
      },
      "outputs": [],
      "source": [
        "sizes = [\n",
        "    0, # The vocab size cannot be lower than base_vocab_size, so it will be the same\n",
        "    100,\n",
        "    200,\n",
        "    250,\n",
        "    300,\n",
        "    400,\n",
        "    500,\n",
        "    600,\n",
        "    700,\n",
        "    750,\n",
        "    800,\n",
        "    900,\n",
        "    1000,\n",
        "    1100,\n",
        "    1200,\n",
        "    1300,\n",
        "    1400,\n",
        "    1500\n",
        "    ]\n",
        "\n",
        "corpus = []\n",
        "for i in range(1, 6):\n",
        "    with open(f\"file{i}\", \"r\") as f:\n",
        "        corpus += f.readlines()"
      ]
    },
    {
      "cell_type": "code",
      "execution_count": 6,
      "metadata": {
        "id": "yrPbFy5lKRhy"
      },
      "outputs": [],
      "source": [
        "ave_lengths = []\n",
        "\n",
        "for s in sizes:\n",
        "    bpe = BPETokenizer(s)\n",
        "    bpe.train(corpus)\n",
        "    sm = 0\n",
        "    for tweet in corpus:\n",
        "        sm += len(bpe.tokenize(tweet))\n",
        "    ave_lengths.append(sm / len(corpus))"
      ]
    },
    {
      "cell_type": "code",
      "execution_count": 7,
      "metadata": {
        "colab": {
          "base_uri": "https://localhost:8080/",
          "height": 449
        },
        "id": "aGJ-0TjILibI",
        "outputId": "cdfe3691-8106-41da-c8ce-d178d301fdbc"
      },
      "outputs": [
        {
          "output_type": "display_data",
          "data": {
            "text/plain": [
              "<Figure size 640x480 with 1 Axes>"
            ],
            "image/png": "[encoded data removed]"
          },
          "metadata": {}
        }
      ],
      "source": [
        "import matplotlib.pyplot as plt\n",
        "\n",
        "plt.plot(sizes, ave_lengths)\n",
        "plt.xlabel(\"Vocab size\")\n",
        "plt.ylabel(\"Average tokenized tweet length\")\n",
        "plt.yticks(range(0, 100, 10))\n",
        "plt.show()"
      ]
    },
    {
      "cell_type": "markdown",
      "source": [
        "According to the elbow rule, the preferrable vocab size may be around 400, as after it the decrease is not so steep as before"
      ],
      "metadata": {
        "id": "WUag6e3iw_7e"
      }
    },
    {
      "cell_type": "markdown",
      "metadata": {
        "id": "EXaWGQKFf5-t"
      },
      "source": [
        "### Task 2.3. Analysis on Dataset of Different Language (10 points)\n",
        "\n",
        "Find a small dataset of texts in a language other than English. The dataset size should be not greater than several megabytes.\n",
        "\n",
        "Train the BPE tokenizer on the dataset that you found. Try to tokenize the sentences from this dataset with the tokenizer of different `vocab_size`. Plot the dependency of the average length of the tokenized sentence by `vocab_size` to analyze how `vocab_size` affects the length of the tokenized sentence on average.\n",
        "\n",
        "Tell how how the average length of the tokenized sentence differs from the average length of the tokenized tweet. Explain why."
      ]
    },
    {
      "cell_type": "markdown",
      "source": [
        "I used a sample of first 1000 sentences labeled toxic from the following dataset: [Russian Language Toxic Coments](https://www.kaggle.com/datasets/blackmoon/russian-language-toxic-comments)"
      ],
      "metadata": {
        "id": "3h2kIEKZP82T"
      }
    },
    {
      "cell_type": "code",
      "source": [
        "with open(\"preprocessed.txt\", \"r\") as f:\n",
        "    corpus = f.readlines()\n",
        "len(corpus)"
      ],
      "metadata": {
        "colab": {
          "base_uri": "https://localhost:8080/"
        },
        "id": "t2BoxI2MQXgm",
        "outputId": "3356a162-e92a-45c9-adf0-b1473a453c6c"
      },
      "execution_count": 8,
      "outputs": [
        {
          "output_type": "execute_result",
          "data": {
            "text/plain": [
              "1000"
            ]
          },
          "metadata": {},
          "execution_count": 8
        }
      ]
    },
    {
      "cell_type": "code",
      "source": [
        "ave_lengths = []\n",
        "\n",
        "for s in sizes:\n",
        "    print(\"Training for size\", s)\n",
        "    bpe = BPETokenizer(s)\n",
        "    bpe.train(corpus)\n",
        "    sm = 0\n",
        "    for tweet in corpus:\n",
        "        sm += len(bpe.tokenize(tweet))\n",
        "    ave_lengths.append(sm / len(corpus))"
      ],
      "metadata": {
        "id": "Kf7NCF2KSLZ5",
        "colab": {
          "base_uri": "https://localhost:8080/"
        },
        "outputId": "e3b45bd2-f1ab-4008-fbed-e5a2ea480104"
      },
      "execution_count": 9,
      "outputs": [
        {
          "output_type": "stream",
          "name": "stdout",
          "text": [
            "Training for size 0\n",
            "Training for size 100\n",
            "Training for size 200\n",
            "Training for size 250\n",
            "Training for size 300\n",
            "Training for size 400\n",
            "Training for size 500\n",
            "Training for size 600\n",
            "Training for size 700\n",
            "Training for size 750\n",
            "Training for size 800\n",
            "Training for size 900\n",
            "Training for size 1000\n",
            "Training for size 1100\n",
            "Training for size 1200\n",
            "Training for size 1300\n",
            "Training for size 1400\n",
            "Training for size 1500\n"
          ]
        }
      ]
    },
    {
      "cell_type": "code",
      "source": [
        "import matplotlib.pyplot as plt\n",
        "\n",
        "plt.plot(sizes, ave_lengths)\n",
        "plt.xlabel(\"Vocab size\")\n",
        "plt.ylabel(\"Average tokenized tweet length\")\n",
        "plt.yticks(range(0, 250, 50))\n",
        "plt.show()"
      ],
      "metadata": {
        "colab": {
          "base_uri": "https://localhost:8080/",
          "height": 449
        },
        "id": "2iGBWUmySR-s",
        "outputId": "b9ff98d5-b176-479d-812c-83780b377822"
      },
      "execution_count": 10,
      "outputs": [
        {
          "output_type": "display_data",
          "data": {
            "text/plain": [
              "<Figure size 640x480 with 1 Axes>"
            ],
            "image/png": "[encoded data removed]"
          },
          "metadata": {}
        }
      ]
    },
    {
      "cell_type": "markdown",
      "source": [
        "We can see that the average length of the tokenized tweets is approximately 2 times larger for all vocab_sizes. This is related to the different nature of the gathered data (regular tweets vs toxic comments), different language properties (different number of words in sentences, different length of words) etc. However, one can see that the overall picture is extremely similar to the picture of the tweets. This may be related to the fact that English and Russian languages share some characteristics (e.g. words are based on some roots, have endings, approximately the same number of letters in the alphabet, similar number of vowels etc.)."
      ],
      "metadata": {
        "id": "mCkCl9DI537d"
      }
    }
  ],
  "metadata": {
    "colab": {
      "provenance": []
    },
    "kernelspec": {
      "display_name": "Python 3 (ipykernel)",
      "language": "python",
      "name": "python3"
    },
    "language_info": {
      "name": "python"
    }
  },
  "nbformat": 4,
  "nbformat_minor": 0
}