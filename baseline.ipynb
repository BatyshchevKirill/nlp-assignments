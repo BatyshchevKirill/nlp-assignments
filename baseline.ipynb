{
 "cells": [
  {
   "cell_type": "code",
   "execution_count": 1,
   "id": "initial_id",
   "metadata": {
    "collapsed": true,
    "ExecuteTime": {
     "end_time": "2024-04-27T13:14:25.229135Z",
     "start_time": "2024-04-27T13:14:21.854087Z"
    }
   },
   "outputs": [
    {
     "name": "stderr",
     "output_type": "stream",
     "text": [
      "/home/nightborn/DataspellProjects/kaggle_comps/venv/lib/python3.10/site-packages/datasets/load.py:1461: FutureWarning: The repository for iluvvatar/RuNNE contains custom code which must be executed to correctly load the dataset. You can inspect the repository content at https://hf.co/datasets/iluvvatar/RuNNE\n",
      "You can avoid this message in future by passing the argument `trust_remote_code=True`.\n",
      "Passing `trust_remote_code=True` will be mandatory to load this dataset from the next major release of `datasets`.\n",
      "  warnings.warn(\n"
     ]
    },
    {
     "data": {
      "text/plain": "DatasetDict({\n    train: Dataset({\n        features: ['id', 'text', 'entities'],\n        num_rows: 461\n    })\n    test: Dataset({\n        features: ['id', 'text', 'entities'],\n        num_rows: 93\n    })\n    dev: Dataset({\n        features: ['id', 'text', 'entities'],\n        num_rows: 323\n    })\n})"
     },
     "execution_count": 1,
     "metadata": {},
     "output_type": "execute_result"
    }
   ],
   "source": [
    "from datasets import load_dataset\n",
    "\n",
    "# Load the datset from the HuggingFace\n",
    "data = load_dataset(\"iluvvatar/RuNNE\")\n",
    "data"
   ]
  },
  {
   "cell_type": "code",
   "outputs": [
    {
     "data": {
      "text/plain": "                                                  text  \\\nid                                                       \n0    Ким Чен Нама убили с помощью запрещённого химо...   \n1    Смена портретов на долларах\\nГарриет Табмен\\nК...   \n2    Новым генсеком ООН станет португалец Гутерреш\\...   \n3    Вахту принял\\n\\nУоррен Баффет назвал своего по...   \n4    В Японии скончался старейший житель Земли — Дз...   \n..                                                 ...   \n836  Электрик руководит социал-демократами Дюссельд...   \n839  Мужчина женился на тёще\\n\\nРумынский мужчина у...   \n843  Названы лауреаты премии «World Press Photo»\\nФ...   \n866  Первое поражение Серены Уильямс в финале Austr...   \n891  Аделина Сотникова стала первой\\nАделина Сотник...   \n\n                                              entities  \nid                                                      \n0    [0 12 PERSON, 56 72 ORGANIZATION, 64 72 COUNTR...  \n1    [19 27 MONEY, 28 42 PERSON, 52 67 MONEY, 68 77...  \n2    [6 14 PROFESSION, 15 18 ORGANIZATION, 26 36 NA...  \n3    [14 27 PERSON, 199 209 DATE, 232 260 PROFESSIO...  \n4    [2 8 COUNTRY, 79 96 DATE, 116 122 COUNTRY, 134...  \n..                                                 ...  \n836  [0 8 PROFESSION, 68 72 ORGANIZATION, 73 101 TI...  \n839  [25 34 NATIONALITY, 129 138 PERSON, 154 161 CI...  \n843  [61 67 COUNTRY, 68 78 PERSON, 258 286 ORGANIZA...  \n866  [0 6 ORDINAL, 17 31 PERSON, 41 56 EVENT, 57 71...  \n891  [0 17 PERSON, 24 30 ORDINAL, 31 48 PERSON, 49 ...  \n\n[461 rows x 2 columns]",
      "text/html": "<div>\n<style scoped>\n    .dataframe tbody tr th:only-of-type {\n        vertical-align: middle;\n    }\n\n    .dataframe tbody tr th {\n        vertical-align: top;\n    }\n\n    .dataframe thead th {\n        text-align: right;\n    }\n</style>\n<table border=\"1\" class=\"dataframe\">\n  <thead>\n    <tr style=\"text-align: right;\">\n      <th></th>\n      <th>text</th>\n      <th>entities</th>\n    </tr>\n    <tr>\n      <th>id</th>\n      <th></th>\n      <th></th>\n    </tr>\n  </thead>\n  <tbody>\n    <tr>\n      <th>0</th>\n      <td>Ким Чен Нама убили с помощью запрещённого химо...</td>\n      <td>[0 12 PERSON, 56 72 ORGANIZATION, 64 72 COUNTR...</td>\n    </tr>\n    <tr>\n      <th>1</th>\n      <td>Смена портретов на долларах\\nГарриет Табмен\\nК...</td>\n      <td>[19 27 MONEY, 28 42 PERSON, 52 67 MONEY, 68 77...</td>\n    </tr>\n    <tr>\n      <th>2</th>\n      <td>Новым генсеком ООН станет португалец Гутерреш\\...</td>\n      <td>[6 14 PROFESSION, 15 18 ORGANIZATION, 26 36 NA...</td>\n    </tr>\n    <tr>\n      <th>3</th>\n      <td>Вахту принял\\n\\nУоррен Баффет назвал своего по...</td>\n      <td>[14 27 PERSON, 199 209 DATE, 232 260 PROFESSIO...</td>\n    </tr>\n    <tr>\n      <th>4</th>\n      <td>В Японии скончался старейший житель Земли — Дз...</td>\n      <td>[2 8 COUNTRY, 79 96 DATE, 116 122 COUNTRY, 134...</td>\n    </tr>\n    <tr>\n      <th>...</th>\n      <td>...</td>\n      <td>...</td>\n    </tr>\n    <tr>\n      <th>836</th>\n      <td>Электрик руководит социал-демократами Дюссельд...</td>\n      <td>[0 8 PROFESSION, 68 72 ORGANIZATION, 73 101 TI...</td>\n    </tr>\n    <tr>\n      <th>839</th>\n      <td>Мужчина женился на тёще\\n\\nРумынский мужчина у...</td>\n      <td>[25 34 NATIONALITY, 129 138 PERSON, 154 161 CI...</td>\n    </tr>\n    <tr>\n      <th>843</th>\n      <td>Названы лауреаты премии «World Press Photo»\\nФ...</td>\n      <td>[61 67 COUNTRY, 68 78 PERSON, 258 286 ORGANIZA...</td>\n    </tr>\n    <tr>\n      <th>866</th>\n      <td>Первое поражение Серены Уильямс в финале Austr...</td>\n      <td>[0 6 ORDINAL, 17 31 PERSON, 41 56 EVENT, 57 71...</td>\n    </tr>\n    <tr>\n      <th>891</th>\n      <td>Аделина Сотникова стала первой\\nАделина Сотник...</td>\n      <td>[0 17 PERSON, 24 30 ORDINAL, 31 48 PERSON, 49 ...</td>\n    </tr>\n  </tbody>\n</table>\n<p>461 rows × 2 columns</p>\n</div>"
     },
     "execution_count": 2,
     "metadata": {},
     "output_type": "execute_result"
    }
   ],
   "source": [
    "import pandas as pd\n",
    "\n",
    "# Convert the dataset to pandas\n",
    "df1, df2 = data['train'], data['test']\n",
    "df1 = pd.DataFrame(df1)\n",
    "df1.set_index(\"id\", inplace=True)\n",
    "\n",
    "df2 = pd.DataFrame(df2)\n",
    "df2.set_index(\"id\", inplace=True)\n",
    "\n",
    "df1"
   ],
   "metadata": {
    "collapsed": false,
    "ExecuteTime": {
     "end_time": "2024-04-27T13:14:25.261249Z",
     "start_time": "2024-04-27T13:14:25.230146Z"
    }
   },
   "id": "7419fae15c190afc",
   "execution_count": 2
  },
  {
   "cell_type": "code",
   "outputs": [
    {
     "data": {
      "text/plain": "                                                  text  \\\nid                                                       \n0    Ким Чен Нама убили с помощью запрещённого химо...   \n1    Смена портретов на долларах\\nГарриет Табмен\\nК...   \n2    Новым генсеком ООН станет португалец Гутерреш\\...   \n3    Вахту принял\\n\\nУоррен Баффет назвал своего по...   \n4    В Японии скончался старейший житель Земли — Дз...   \n..                                                 ...   \n154  Актёр фильмов «Ип Ман» Донни Йен поддержал вра...   \n156  В Солсбери состоится концерт «Из России с любо...   \n168  У Турции есть записи убийства журналиста в сау...   \n173  Жители Крыма назвали сына Биткоином\\n\\nЛоготип...   \n175  Морриконе ответил на сообщения о критике Таран...   \n\n                                              entities  \nid                                                      \n0    [0 12 PERSON, 56 72 ORGANIZATION, 64 72 COUNTR...  \n1    [19 27 MONEY, 28 42 PERSON, 52 67 MONEY, 68 77...  \n2    [6 14 PROFESSION, 15 18 ORGANIZATION, 26 36 NA...  \n3    [14 27 PERSON, 199 209 DATE, 232 260 PROFESSIO...  \n4    [2 8 COUNTRY, 79 96 DATE, 116 122 COUNTRY, 134...  \n..                                                 ...  \n154  [15 21 WORK_OF_ART, 23 32 PERSON, 56 65 PERSON...  \n156  [2 10 CITY, 33 39 COUNTRY, 51 74 FACILITY, 77 ...  \n168  [2 8 COUNTRY, 43 53 COUNTRY, 82 101 ORGANIZATI...  \n173  [7 12 STATE_OR_PROVINCE, 45 53 MONEY, 56 61 ST...  \n175  [0 9 PERSON, 41 50 PERSON, 52 67 ORGANIZATION,...  \n\n[554 rows x 2 columns]",
      "text/html": "<div>\n<style scoped>\n    .dataframe tbody tr th:only-of-type {\n        vertical-align: middle;\n    }\n\n    .dataframe tbody tr th {\n        vertical-align: top;\n    }\n\n    .dataframe thead th {\n        text-align: right;\n    }\n</style>\n<table border=\"1\" class=\"dataframe\">\n  <thead>\n    <tr style=\"text-align: right;\">\n      <th></th>\n      <th>text</th>\n      <th>entities</th>\n    </tr>\n    <tr>\n      <th>id</th>\n      <th></th>\n      <th></th>\n    </tr>\n  </thead>\n  <tbody>\n    <tr>\n      <th>0</th>\n      <td>Ким Чен Нама убили с помощью запрещённого химо...</td>\n      <td>[0 12 PERSON, 56 72 ORGANIZATION, 64 72 COUNTR...</td>\n    </tr>\n    <tr>\n      <th>1</th>\n      <td>Смена портретов на долларах\\nГарриет Табмен\\nК...</td>\n      <td>[19 27 MONEY, 28 42 PERSON, 52 67 MONEY, 68 77...</td>\n    </tr>\n    <tr>\n      <th>2</th>\n      <td>Новым генсеком ООН станет португалец Гутерреш\\...</td>\n      <td>[6 14 PROFESSION, 15 18 ORGANIZATION, 26 36 NA...</td>\n    </tr>\n    <tr>\n      <th>3</th>\n      <td>Вахту принял\\n\\nУоррен Баффет назвал своего по...</td>\n      <td>[14 27 PERSON, 199 209 DATE, 232 260 PROFESSIO...</td>\n    </tr>\n    <tr>\n      <th>4</th>\n      <td>В Японии скончался старейший житель Земли — Дз...</td>\n      <td>[2 8 COUNTRY, 79 96 DATE, 116 122 COUNTRY, 134...</td>\n    </tr>\n    <tr>\n      <th>...</th>\n      <td>...</td>\n      <td>...</td>\n    </tr>\n    <tr>\n      <th>154</th>\n      <td>Актёр фильмов «Ип Ман» Донни Йен поддержал вра...</td>\n      <td>[15 21 WORK_OF_ART, 23 32 PERSON, 56 65 PERSON...</td>\n    </tr>\n    <tr>\n      <th>156</th>\n      <td>В Солсбери состоится концерт «Из России с любо...</td>\n      <td>[2 10 CITY, 33 39 COUNTRY, 51 74 FACILITY, 77 ...</td>\n    </tr>\n    <tr>\n      <th>168</th>\n      <td>У Турции есть записи убийства журналиста в сау...</td>\n      <td>[2 8 COUNTRY, 43 53 COUNTRY, 82 101 ORGANIZATI...</td>\n    </tr>\n    <tr>\n      <th>173</th>\n      <td>Жители Крыма назвали сына Биткоином\\n\\nЛоготип...</td>\n      <td>[7 12 STATE_OR_PROVINCE, 45 53 MONEY, 56 61 ST...</td>\n    </tr>\n    <tr>\n      <th>175</th>\n      <td>Морриконе ответил на сообщения о критике Таран...</td>\n      <td>[0 9 PERSON, 41 50 PERSON, 52 67 ORGANIZATION,...</td>\n    </tr>\n  </tbody>\n</table>\n<p>554 rows × 2 columns</p>\n</div>"
     },
     "execution_count": 3,
     "metadata": {},
     "output_type": "execute_result"
    }
   ],
   "source": [
    "# Combine the dataset\n",
    "df_given = pd.concat([df1, df2])\n",
    "df_given"
   ],
   "metadata": {
    "collapsed": false,
    "ExecuteTime": {
     "end_time": "2024-04-27T13:14:25.267224Z",
     "start_time": "2024-04-27T13:14:25.261847Z"
    }
   },
   "id": "5a44c97f2b6fb2d9",
   "execution_count": 3
  },
  {
   "cell_type": "code",
   "outputs": [
    {
     "data": {
      "text/plain": "                                              entities  \\\nid                                                       \n0    [[0, 5, CITY], [16, 23, PERSON], [34, 41, PERS...   \n1    [[21, 28, PROFESSION], [53, 67, ORGANIZATION],...   \n2    [[0, 4, PERSON], [37, 42, COUNTRY], [47, 76, O...   \n3    [[0, 11, PERSON], [36, 47, PROFESSION], [49, 6...   \n4    [[0, 4, PERSON], [17, 29, ORGANIZATION], [48, ...   \n..                                                 ...   \n514  [[42, 46, COUNTRY], [82, 87, COUNTRY], [104, 1...   \n515  [[1, 4, PRODUCT], [31, 33, FACILITY], [35, 44,...   \n516  [[0, 4, PERSON], [8, 12, PERSON], [45, 52, AGE...   \n517  [[0, 9, NATIONALITY], [58, 72, PERSON], [101, ...   \n518  [[0, 4, PERSON], [16, 25, PROFESSION], [27, 38...   \n\n                                                  text  \nid                                                      \n0    Бостон взорвали Тамерлан и Джохар Царнаевы из ...  \n1    Умер избитый до комы гитарист и сооснователь г...  \n2    Путин подписал распоряжение о выходе России из...  \n3    Бенедикт XVI носил кардиостимулятор\\nПапа Римс...  \n4    Обама назначит в Верховный суд латиноамериканк...  \n..                                                 ...  \n514  Глава Малайзии: мы не хотим противостоять Кита...  \n515  «Союз» впервые пристыковался к МКС за 6 часов\\...  \n516  Трамп и Путин сделали совместное заявление к 7...  \n517  Российский магнат устроил самую дорогую свадьб...  \n518  Трамп поздравил астронавта Пегги Уитсон с уста...  \n\n[519 rows x 2 columns]",
      "text/html": "<div>\n<style scoped>\n    .dataframe tbody tr th:only-of-type {\n        vertical-align: middle;\n    }\n\n    .dataframe tbody tr th {\n        vertical-align: top;\n    }\n\n    .dataframe thead th {\n        text-align: right;\n    }\n</style>\n<table border=\"1\" class=\"dataframe\">\n  <thead>\n    <tr style=\"text-align: right;\">\n      <th></th>\n      <th>entities</th>\n      <th>text</th>\n    </tr>\n    <tr>\n      <th>id</th>\n      <th></th>\n      <th></th>\n    </tr>\n  </thead>\n  <tbody>\n    <tr>\n      <th>0</th>\n      <td>[[0, 5, CITY], [16, 23, PERSON], [34, 41, PERS...</td>\n      <td>Бостон взорвали Тамерлан и Джохар Царнаевы из ...</td>\n    </tr>\n    <tr>\n      <th>1</th>\n      <td>[[21, 28, PROFESSION], [53, 67, ORGANIZATION],...</td>\n      <td>Умер избитый до комы гитарист и сооснователь г...</td>\n    </tr>\n    <tr>\n      <th>2</th>\n      <td>[[0, 4, PERSON], [37, 42, COUNTRY], [47, 76, O...</td>\n      <td>Путин подписал распоряжение о выходе России из...</td>\n    </tr>\n    <tr>\n      <th>3</th>\n      <td>[[0, 11, PERSON], [36, 47, PROFESSION], [49, 6...</td>\n      <td>Бенедикт XVI носил кардиостимулятор\\nПапа Римс...</td>\n    </tr>\n    <tr>\n      <th>4</th>\n      <td>[[0, 4, PERSON], [17, 29, ORGANIZATION], [48, ...</td>\n      <td>Обама назначит в Верховный суд латиноамериканк...</td>\n    </tr>\n    <tr>\n      <th>...</th>\n      <td>...</td>\n      <td>...</td>\n    </tr>\n    <tr>\n      <th>514</th>\n      <td>[[42, 46, COUNTRY], [82, 87, COUNTRY], [104, 1...</td>\n      <td>Глава Малайзии: мы не хотим противостоять Кита...</td>\n    </tr>\n    <tr>\n      <th>515</th>\n      <td>[[1, 4, PRODUCT], [31, 33, FACILITY], [35, 44,...</td>\n      <td>«Союз» впервые пристыковался к МКС за 6 часов\\...</td>\n    </tr>\n    <tr>\n      <th>516</th>\n      <td>[[0, 4, PERSON], [8, 12, PERSON], [45, 52, AGE...</td>\n      <td>Трамп и Путин сделали совместное заявление к 7...</td>\n    </tr>\n    <tr>\n      <th>517</th>\n      <td>[[0, 9, NATIONALITY], [58, 72, PERSON], [101, ...</td>\n      <td>Российский магнат устроил самую дорогую свадьб...</td>\n    </tr>\n    <tr>\n      <th>518</th>\n      <td>[[0, 4, PERSON], [16, 25, PROFESSION], [27, 38...</td>\n      <td>Трамп поздравил астронавта Пегги Уитсон с уста...</td>\n    </tr>\n  </tbody>\n</table>\n<p>519 rows × 2 columns</p>\n</div>"
     },
     "execution_count": 4,
     "metadata": {},
     "output_type": "execute_result"
    }
   ],
   "source": [
    "# Load the provided dataset\n",
    "df = pd.read_json(path_or_buf=\"train.jsonl\", lines=True)\n",
    "df.set_index(\"id\", inplace=True)\n",
    "df.columns = ['entities', \"text\"]\n",
    "df"
   ],
   "metadata": {
    "collapsed": false,
    "ExecuteTime": {
     "end_time": "2024-04-27T13:14:25.342364Z",
     "start_time": "2024-04-27T13:14:25.267955Z"
    }
   },
   "id": "ad7ae2513595f88c",
   "execution_count": 4
  },
  {
   "cell_type": "code",
   "outputs": [
    {
     "data": {
      "text/plain": "                                                  text\nid                                                    \n584  Владелец «Бирмингема» получил шесть лет тюрьмы...\n585  Акция протеста на Майдане Независимости объявл...\n586  Фольксваген может перейти под контроль Порше \\...\n587  В Москве покажут фильмы Чарли Чаплина с живой ...\n588  Чулпан Хаматова сыграет главную роль в фильме ...\n..                                                 ...\n644  ОБСЕ назвала референдум о статусе Крыма незако...\n645  Египетского студента могут выслать из страны з...\n646  Геннадий Онищенко отправлен в отставку\\nГеннад...\n647  Племянник Алишера Усманова разбился в ДТП\\nВид...\n648  Владимир Булавин назначен на новую должность —...\n\n[65 rows x 1 columns]",
      "text/html": "<div>\n<style scoped>\n    .dataframe tbody tr th:only-of-type {\n        vertical-align: middle;\n    }\n\n    .dataframe tbody tr th {\n        vertical-align: top;\n    }\n\n    .dataframe thead th {\n        text-align: right;\n    }\n</style>\n<table border=\"1\" class=\"dataframe\">\n  <thead>\n    <tr style=\"text-align: right;\">\n      <th></th>\n      <th>text</th>\n    </tr>\n    <tr>\n      <th>id</th>\n      <th></th>\n    </tr>\n  </thead>\n  <tbody>\n    <tr>\n      <th>584</th>\n      <td>Владелец «Бирмингема» получил шесть лет тюрьмы...</td>\n    </tr>\n    <tr>\n      <th>585</th>\n      <td>Акция протеста на Майдане Независимости объявл...</td>\n    </tr>\n    <tr>\n      <th>586</th>\n      <td>Фольксваген может перейти под контроль Порше \\...</td>\n    </tr>\n    <tr>\n      <th>587</th>\n      <td>В Москве покажут фильмы Чарли Чаплина с живой ...</td>\n    </tr>\n    <tr>\n      <th>588</th>\n      <td>Чулпан Хаматова сыграет главную роль в фильме ...</td>\n    </tr>\n    <tr>\n      <th>...</th>\n      <td>...</td>\n    </tr>\n    <tr>\n      <th>644</th>\n      <td>ОБСЕ назвала референдум о статусе Крыма незако...</td>\n    </tr>\n    <tr>\n      <th>645</th>\n      <td>Египетского студента могут выслать из страны з...</td>\n    </tr>\n    <tr>\n      <th>646</th>\n      <td>Геннадий Онищенко отправлен в отставку\\nГеннад...</td>\n    </tr>\n    <tr>\n      <th>647</th>\n      <td>Племянник Алишера Усманова разбился в ДТП\\nВид...</td>\n    </tr>\n    <tr>\n      <th>648</th>\n      <td>Владимир Булавин назначен на новую должность —...</td>\n    </tr>\n  </tbody>\n</table>\n<p>65 rows × 1 columns</p>\n</div>"
     },
     "execution_count": 5,
     "metadata": {},
     "output_type": "execute_result"
    }
   ],
   "source": [
    "# Load the test data\n",
    "test = pd.read_json(path_or_buf=\"test.jsonl\", lines=True)\n",
    "test.set_index(\"id\", inplace=True)\n",
    "test.columns = [\"text\"]\n",
    "test"
   ],
   "metadata": {
    "collapsed": false,
    "ExecuteTime": {
     "end_time": "2024-04-27T13:14:25.348896Z",
     "start_time": "2024-04-27T13:14:25.343048Z"
    }
   },
   "id": "78a62b0847552f97",
   "execution_count": 5
  },
  {
   "cell_type": "markdown",
   "source": [
    "Filter out repeated sentences. Sentences in the dataset from huggingface and from codalab have different encoding or something like that, so some symbols differ. Therefore, we think that sentences are the same if they have the same length and they have more than 99% elementwise similarity"
   ],
   "metadata": {
    "collapsed": false
   },
   "id": "b14d40db6c6a7ebd"
  },
  {
   "cell_type": "code",
   "outputs": [
    {
     "name": "stderr",
     "output_type": "stream",
     "text": [
      "100%|██████████| 554/554 [00:00<00:00, 6051.09it/s]"
     ]
    },
    {
     "name": "stdout",
     "output_type": "stream",
     "text": [
      "Length of the huggingface data: 554\n",
      "Length of the huggingface data after filtering out repetitions: 112\n"
     ]
    },
    {
     "name": "stderr",
     "output_type": "stream",
     "text": [
      "\n"
     ]
    }
   ],
   "source": [
    "from tqdm import tqdm\n",
    "\n",
    "to_drop = []\n",
    "\n",
    "for row in tqdm(df_given.iterrows(), total=len(df_given)):\n",
    "    text = row[1]['text']\n",
    "\n",
    "    for sentence in df['text']:\n",
    "        \n",
    "        # Find sentences of similar length \n",
    "        if len(sentence) == len(text):\n",
    "            sim = 0\n",
    "            \n",
    "            # Compare charwise\n",
    "            for c1, c2 in zip(sentence, text):\n",
    "                if c1 == c2:\n",
    "                    sim += 1\n",
    "            sim /= len(sentence)\n",
    "            if sim >= 0.99:\n",
    "                to_drop.append(row[0])\n",
    "\n",
    "print(\"Length of the huggingface data:\", len(df_given))\n",
    "df_given = df_given.drop(to_drop)\n",
    "print(\"Length of the huggingface data after filtering out repetitions:\", len(df_given))"
   ],
   "metadata": {
    "collapsed": false,
    "ExecuteTime": {
     "end_time": "2024-04-27T13:14:25.865102Z",
     "start_time": "2024-04-27T13:14:25.769233Z"
    }
   },
   "id": "798f6ab2d3f4de8e",
   "execution_count": 6
  },
  {
   "cell_type": "code",
   "outputs": [
    {
     "data": {
      "text/plain": "                                                  text  \\\nid                                                       \n4    В Японии скончался старейший житель Земли — Дз...   \n7    Мэр Москвы назвал состав нового правительства\\...   \n19   Племянник Алишера Усманова разбился в ДТП\\nВид...   \n21   Газпром сменит главу оператора морского участк...   \n23   Герман Кейн — в президенты?\\n\\n\\n\\n\\n''У Барак...   \n..                                                 ...   \n118  Depeche Mode выпустил новый альбом Spirit\\n\\nВ...   \n121  Мэр Гданьска погиб после ножевой атаки на благ...   \n129  Умерла старейшая жительница Земли Эмма Морано\\...   \n141  Умер Кирк Дуглас — последний представитель «зо...   \n146  Билл Гейтс представил в Китае работающий без в...   \n\n                                              entities  \nid                                                      \n4    [[2, 7, COUNTRY], [79, 95, DATE], [116, 121, C...  \n7    [[0, 2, PROFESSION], [97, 107, CITY], [114, 13...  \n19   [[10, 25, PERSON], [38, 40, EVENT], [49, 55, C...  \n21   [[0, 6, ORGANIZATION], [15, 62, PROFESSION], [...  \n23   [[0, 10, PERSON], [16, 25, PROFESSION], [36, 4...  \n..                                                 ...  \n118  [[0, 11, ORGANIZATION], [35, 40, WORK_OF_ART],...  \n121  [[0, 2, PROFESSION], [69, 82, PERSON], [84, 11...  \n129  [[34, 44, PERSON], [47, 57, PERSON], [59, 88, ...  \n141  [[5, 15, PERSON], [59, 71, COUNTRY], [87, 97, ...  \n146  [[0, 9, PERSON], [24, 28, COUNTRY], [174, 183,...  \n\n[112 rows x 2 columns]",
      "text/html": "<div>\n<style scoped>\n    .dataframe tbody tr th:only-of-type {\n        vertical-align: middle;\n    }\n\n    .dataframe tbody tr th {\n        vertical-align: top;\n    }\n\n    .dataframe thead th {\n        text-align: right;\n    }\n</style>\n<table border=\"1\" class=\"dataframe\">\n  <thead>\n    <tr style=\"text-align: right;\">\n      <th></th>\n      <th>text</th>\n      <th>entities</th>\n    </tr>\n    <tr>\n      <th>id</th>\n      <th></th>\n      <th></th>\n    </tr>\n  </thead>\n  <tbody>\n    <tr>\n      <th>4</th>\n      <td>В Японии скончался старейший житель Земли — Дз...</td>\n      <td>[[2, 7, COUNTRY], [79, 95, DATE], [116, 121, C...</td>\n    </tr>\n    <tr>\n      <th>7</th>\n      <td>Мэр Москвы назвал состав нового правительства\\...</td>\n      <td>[[0, 2, PROFESSION], [97, 107, CITY], [114, 13...</td>\n    </tr>\n    <tr>\n      <th>19</th>\n      <td>Племянник Алишера Усманова разбился в ДТП\\nВид...</td>\n      <td>[[10, 25, PERSON], [38, 40, EVENT], [49, 55, C...</td>\n    </tr>\n    <tr>\n      <th>21</th>\n      <td>Газпром сменит главу оператора морского участк...</td>\n      <td>[[0, 6, ORGANIZATION], [15, 62, PROFESSION], [...</td>\n    </tr>\n    <tr>\n      <th>23</th>\n      <td>Герман Кейн — в президенты?\\n\\n\\n\\n\\n''У Барак...</td>\n      <td>[[0, 10, PERSON], [16, 25, PROFESSION], [36, 4...</td>\n    </tr>\n    <tr>\n      <th>...</th>\n      <td>...</td>\n      <td>...</td>\n    </tr>\n    <tr>\n      <th>118</th>\n      <td>Depeche Mode выпустил новый альбом Spirit\\n\\nВ...</td>\n      <td>[[0, 11, ORGANIZATION], [35, 40, WORK_OF_ART],...</td>\n    </tr>\n    <tr>\n      <th>121</th>\n      <td>Мэр Гданьска погиб после ножевой атаки на благ...</td>\n      <td>[[0, 2, PROFESSION], [69, 82, PERSON], [84, 11...</td>\n    </tr>\n    <tr>\n      <th>129</th>\n      <td>Умерла старейшая жительница Земли Эмма Морано\\...</td>\n      <td>[[34, 44, PERSON], [47, 57, PERSON], [59, 88, ...</td>\n    </tr>\n    <tr>\n      <th>141</th>\n      <td>Умер Кирк Дуглас — последний представитель «зо...</td>\n      <td>[[5, 15, PERSON], [59, 71, COUNTRY], [87, 97, ...</td>\n    </tr>\n    <tr>\n      <th>146</th>\n      <td>Билл Гейтс представил в Китае работающий без в...</td>\n      <td>[[0, 9, PERSON], [24, 28, COUNTRY], [174, 183,...</td>\n    </tr>\n  </tbody>\n</table>\n<p>112 rows × 2 columns</p>\n</div>"
     },
     "execution_count": 7,
     "metadata": {},
     "output_type": "execute_result"
    }
   ],
   "source": [
    "def convert(x):\n",
    "    \"\"\"\n",
    "    Convert the huggingface format to codalab format\n",
    "    \n",
    "    :param x: list of entities\n",
    "    :return: the converted list of entities\n",
    "    \"\"\"\n",
    "    prepped = []\n",
    "    for e in x:\n",
    "        e = e.split()\n",
    "        prepped.append([int(e[0]), int(e[1])-1, e[2]])\n",
    "    return prepped\n",
    "\n",
    "df_given['entities'] = df_given['entities'].apply(convert)\n",
    "df_given"
   ],
   "metadata": {
    "collapsed": false,
    "ExecuteTime": {
     "end_time": "2024-04-27T13:14:29.754063Z",
     "start_time": "2024-04-27T13:14:29.695459Z"
    }
   },
   "id": "becf070da8573eb9",
   "execution_count": 7
  },
  {
   "cell_type": "code",
   "outputs": [
    {
     "data": {
      "text/plain": "                                                  text  \\\nid                                                       \n4    В Японии скончался старейший житель Земли — Дз...   \n7    Мэр Москвы назвал состав нового правительства\\...   \n19   Племянник Алишера Усманова разбился в ДТП\\nВид...   \n21   Газпром сменит главу оператора морского участк...   \n23   Герман Кейн — в президенты?\\n\\n\\n\\n\\n''У Барак...   \n..                                                 ...   \n514  Глава Малайзии: мы не хотим противостоять Кита...   \n515  «Союз» впервые пристыковался к МКС за 6 часов\\...   \n516  Трамп и Путин сделали совместное заявление к 7...   \n517  Российский магнат устроил самую дорогую свадьб...   \n518  Трамп поздравил астронавта Пегги Уитсон с уста...   \n\n                                              entities  \nid                                                      \n4    [[2, 7, COUNTRY], [79, 95, DATE], [116, 121, C...  \n7    [[0, 2, PROFESSION], [97, 107, CITY], [114, 13...  \n19   [[10, 25, PERSON], [38, 40, EVENT], [49, 55, C...  \n21   [[0, 6, ORGANIZATION], [15, 62, PROFESSION], [...  \n23   [[0, 10, PERSON], [16, 25, PROFESSION], [36, 4...  \n..                                                 ...  \n514  [[42, 46, COUNTRY], [82, 87, COUNTRY], [104, 1...  \n515  [[1, 4, PRODUCT], [31, 33, FACILITY], [35, 44,...  \n516  [[0, 4, PERSON], [8, 12, PERSON], [45, 52, AGE...  \n517  [[0, 9, NATIONALITY], [58, 72, PERSON], [101, ...  \n518  [[0, 4, PERSON], [16, 25, PROFESSION], [27, 38...  \n\n[631 rows x 2 columns]",
      "text/html": "<div>\n<style scoped>\n    .dataframe tbody tr th:only-of-type {\n        vertical-align: middle;\n    }\n\n    .dataframe tbody tr th {\n        vertical-align: top;\n    }\n\n    .dataframe thead th {\n        text-align: right;\n    }\n</style>\n<table border=\"1\" class=\"dataframe\">\n  <thead>\n    <tr style=\"text-align: right;\">\n      <th></th>\n      <th>text</th>\n      <th>entities</th>\n    </tr>\n    <tr>\n      <th>id</th>\n      <th></th>\n      <th></th>\n    </tr>\n  </thead>\n  <tbody>\n    <tr>\n      <th>4</th>\n      <td>В Японии скончался старейший житель Земли — Дз...</td>\n      <td>[[2, 7, COUNTRY], [79, 95, DATE], [116, 121, C...</td>\n    </tr>\n    <tr>\n      <th>7</th>\n      <td>Мэр Москвы назвал состав нового правительства\\...</td>\n      <td>[[0, 2, PROFESSION], [97, 107, CITY], [114, 13...</td>\n    </tr>\n    <tr>\n      <th>19</th>\n      <td>Племянник Алишера Усманова разбился в ДТП\\nВид...</td>\n      <td>[[10, 25, PERSON], [38, 40, EVENT], [49, 55, C...</td>\n    </tr>\n    <tr>\n      <th>21</th>\n      <td>Газпром сменит главу оператора морского участк...</td>\n      <td>[[0, 6, ORGANIZATION], [15, 62, PROFESSION], [...</td>\n    </tr>\n    <tr>\n      <th>23</th>\n      <td>Герман Кейн — в президенты?\\n\\n\\n\\n\\n''У Барак...</td>\n      <td>[[0, 10, PERSON], [16, 25, PROFESSION], [36, 4...</td>\n    </tr>\n    <tr>\n      <th>...</th>\n      <td>...</td>\n      <td>...</td>\n    </tr>\n    <tr>\n      <th>514</th>\n      <td>Глава Малайзии: мы не хотим противостоять Кита...</td>\n      <td>[[42, 46, COUNTRY], [82, 87, COUNTRY], [104, 1...</td>\n    </tr>\n    <tr>\n      <th>515</th>\n      <td>«Союз» впервые пристыковался к МКС за 6 часов\\...</td>\n      <td>[[1, 4, PRODUCT], [31, 33, FACILITY], [35, 44,...</td>\n    </tr>\n    <tr>\n      <th>516</th>\n      <td>Трамп и Путин сделали совместное заявление к 7...</td>\n      <td>[[0, 4, PERSON], [8, 12, PERSON], [45, 52, AGE...</td>\n    </tr>\n    <tr>\n      <th>517</th>\n      <td>Российский магнат устроил самую дорогую свадьб...</td>\n      <td>[[0, 9, NATIONALITY], [58, 72, PERSON], [101, ...</td>\n    </tr>\n    <tr>\n      <th>518</th>\n      <td>Трамп поздравил астронавта Пегги Уитсон с уста...</td>\n      <td>[[0, 4, PERSON], [16, 25, PROFESSION], [27, 38...</td>\n    </tr>\n  </tbody>\n</table>\n<p>631 rows × 2 columns</p>\n</div>"
     },
     "execution_count": 8,
     "metadata": {},
     "output_type": "execute_result"
    }
   ],
   "source": [
    "# Combine the codalab and huggingface data\n",
    "df = pd.concat([df_given, df])\n",
    "df"
   ],
   "metadata": {
    "collapsed": false,
    "ExecuteTime": {
     "end_time": "2024-04-27T13:14:36.139120Z",
     "start_time": "2024-04-27T13:14:36.086804Z"
    }
   },
   "id": "32020b772b7f8aa1",
   "execution_count": 8
  },
  {
   "cell_type": "markdown",
   "source": [
    "# Baseline model creation"
   ],
   "metadata": {
    "collapsed": false
   },
   "id": "de658d05d8b9b64"
  },
  {
   "cell_type": "code",
   "outputs": [],
   "source": [
    "model = dict()\n",
    "\n",
    "# Save all occurrences of NERs to a dictionary\n",
    "for _, row in df.iterrows():\n",
    "    txt = row['text'].lower()\n",
    "    ents = row['entities']\n",
    "\n",
    "    for ent in ents:\n",
    "        model[txt[ent[0]: ent[1] + 1]] = ent[2]"
   ],
   "metadata": {
    "collapsed": false,
    "ExecuteTime": {
     "end_time": "2024-04-27T13:22:34.356472Z",
     "start_time": "2024-04-27T13:22:34.331527Z"
    }
   },
   "id": "631a64620c8ac3a8",
   "execution_count": 21
  },
  {
   "cell_type": "code",
   "outputs": [
    {
     "data": {
      "text/plain": "{'японии': 'COUNTRY',\n '12 июня 2013 года': 'DATE',\n '116 лет': 'AGE',\n 'дзироэмон кимура': 'PERSON',\n 'кимуре': 'PERSON',\n 'книги рекордов гиннесса': 'AWARD',\n '115 лет и 253 дня': 'AGE',\n 'премьер-министр': 'PROFESSION',\n 'синдзо абэ': 'PERSON',\n 'кимура': 'PERSON',\n '115-летия': 'AGE',\n 'xix веке': 'DATE',\n 'с конца 2012 года': 'DATE',\n '7 апреля 2013 года': 'DATE',\n 'кётанго': 'CITY',\n '7': 'NUMBER',\n '14': 'NUMBER',\n '25': 'NUMBER',\n '13': 'ORDINAL',\n 'дзироэмона кимуры': 'PERSON',\n 'мисао окава': 'PERSON',\n '5 марта 1898 года': 'DATE',\n 'мисао кимура': 'PERSON',\n 'осака': 'CITY',\n 'скончался': 'EVENT',\n 'земли': 'LOCATION',\n 'киото': 'CITY',\n '木村 次郎右衛門': 'PERSON',\n 'смерть': 'EVENT',\n 'гиннесса': 'PERSON',\n 'премьер-министр японии': 'PROFESSION',\n '京丹後市': 'CITY',\n 'смерти': 'EVENT',\n '大川 ミサヲ': 'PERSON',\n 'в декабре 2012 года': 'DATE',\n 'видеопоздравление': 'EVENT',\n 'мэр': 'PROFESSION',\n 'московского': 'CITY',\n 'заместителя по транспорту': 'PROFESSION',\n 'заместитель министра транспорта россии': 'PROFESSION',\n 'николай лямов': 'PERSON',\n 'правительстве столицы': 'ORGANIZATION',\n 'заместитель сергея собянина по взаимодействию со сми': 'PROFESSION',\n '48-летний': 'AGE',\n 'генеральный директор «российской газеты»': 'PROFESSION',\n 'российской газеты': 'ORGANIZATION',\n 'александр горбенко': 'PERSON',\n 'на протяжении нескольких лет': 'DATE',\n 'гильдию издателей периодической печати': 'ORGANIZATION',\n 'вице-президент союза издателей и распространителей печатной продукции': 'PROFESSION',\n 'руководителя аппарата столичного правительства': 'PROFESSION',\n 'заместительница сергея собянина': 'PROFESSION',\n 'аппарате правительства россии': 'ORGANIZATION',\n 'анастасия ракова': 'PERSON',\n 'хмао': 'STATE_OR_PROVINCE',\n 'правительство': 'ORGANIZATION',\n 'около года': 'DATE',\n 'замминистра регионального развития': 'PROFESSION',\n 'комитет информационных технологий': 'ORGANIZATION',\n 'с. собянина': 'PERSON',\n 'артём ермолаев': 'PERSON',\n 'советником министра связи и массовых коммуникаций рф': 'PROFESSION',\n 'руководителем комитета': 'PROFESSION',\n 'михаил алешин': 'PERSON',\n 'рбк': 'ORGANIZATION',\n 'руководителем контрольного комитета москвы': 'PROFESSION',\n 'глава отдела оценки росимущества': 'PROFESSION',\n 'росимущества': 'ORGANIZATION',\n 'егор поляков': 'PERSON',\n 'пресс-секретарь': 'PROFESSION',\n 'сергей цой': 'PERSON',\n 'префект цао': 'PROFESSION',\n 'алексей александров': 'PERSON',\n 'глава департамента здравоохранения москвы': 'PROFESSION',\n 'андрей сельцовский': 'PERSON',\n 'с. собянин': 'PERSON',\n 'а. александров': 'PERSON',\n 'а. сельцовский': 'PERSON',\n 'советником мэра': 'PROFESSION',\n 'с. цоя': 'PERSON',\n 'юрия лужкова': 'PERSON',\n 'мэра': 'PROFESSION',\n 'москвы': 'CITY',\n 'мэр москвы': 'PROFESSION',\n 'сергея собянина': 'PERSON',\n 'пресс-секретарь мэра': 'PROFESSION',\n 'цао': 'DISTRICT',\n 'департамента здравоохранения москвы': 'ORGANIZATION',\n 'отдела оценки росимущества': 'ORGANIZATION',\n 'чиновников': 'PROFESSION',\n 'лужковской': 'PERSON',\n 'контрольного комитета москвы': 'ORGANIZATION',\n 'россии': 'COUNTRY',\n 'министра связи и массовых коммуникаций рф': 'PROFESSION',\n 'рф': 'COUNTRY',\n 'мэром': 'PROFESSION',\n 'аппарата столичного правительства': 'ORGANIZATION',\n 'союза издателей и распространителей печатной продукции': 'ORGANIZATION',\n 'министра транспорта россии': 'PROFESSION',\n 'назвал состав нового правительства': 'EVENT',\n 'генеральный директор': 'PROFESSION',\n 'префект': 'PROFESSION',\n 'министра транспорта': 'PROFESSION',\n 'московского мэра': 'PROFESSION',\n 'правительства': 'ORGANIZATION',\n 'правительства россии': 'ORGANIZATION',\n 'столичного правительства': 'ORGANIZATION',\n 'замминистра': 'PROFESSION',\n 'глава отдела оценки': 'PROFESSION',\n 'российской': 'COUNTRY',\n 'возглавил': 'EVENT',\n 'алишера усманова': 'PERSON',\n 'дтп': 'EVENT',\n 'ташкент': 'CITY',\n 'ford mustang': 'PRODUCT',\n '8 мая 2013 года': 'DATE',\n 'ташкенте': 'CITY',\n 'российского': 'COUNTRY',\n '29-летний': 'AGE',\n 'бабур усманов': 'PERSON',\n 'около 5 утра': 'TIME',\n 'восторг': 'FACILITY',\n 'национальной библиотеки узбекистана': 'ORGANIZATION',\n 'улице навои': 'FACILITY',\n 'юнусабадском районе': 'DISTRICT',\n 'форда мустанг': 'PRODUCT',\n 'юлдашева кристина камиловна': 'PERSON',\n 'бабур': 'PERSON',\n 'вечером того же дня': 'TIME',\n 'минор': 'FACILITY',\n 'алишер усманов': 'PERSON',\n 'с 2009 года': 'DATE',\n 'премьер-министра узбекистана': 'PROFESSION',\n 'узбекистана': 'COUNTRY',\n 'шавката мирзиеева': 'PERSON',\n 'швейцарии': 'COUNTRY',\n 'узбекистан': 'COUNTRY',\n '11 мая': 'DATE',\n 'великобритании': 'COUNTRY',\n 'антон винер': 'PERSON',\n 'главного тренера сборной россии по художественной гимнастике': 'PROFESSION',\n 'ирины винер': 'PERSON',\n 'год назад': 'DATE',\n 'bloomberg': 'ORGANIZATION',\n 'на 2013 год': 'DATE',\n '18 млрд долларов сша': 'MONEY',\n '40-е': 'ORDINAL',\n 'в 2013 года': 'DATE',\n '17,6 млрд долларов сша': 'MONEY',\n '34': 'NUMBER',\n 'в апреле 2013 года': 'DATE',\n 'sunday times': 'ORGANIZATION',\n 'усманова': 'PERSON',\n 'первое': 'ORDINAL',\n '20,3 млрд долларов сша': 'MONEY',\n 'усманов': 'PERSON',\n 'forbes': 'ORGANIZATION',\n 'в 2013 году': 'DATE',\n '18,1 млрд долларов сша': 'MONEY',\n 'годом ранее': 'DATE',\n 'разбился': 'EVENT',\n 'автомобильной аварии': 'EVENT',\n 'погиб': 'EVENT',\n 'предпринимателя': 'PROFESSION',\n 'авария': 'EVENT',\n 'здания национальной библиотеки узбекистана': 'FACILITY',\n 'погибли': 'EVENT',\n 'похоронен': 'EVENT',\n 'премьер-министра': 'PROFESSION',\n 'тренера': 'PROFESSION',\n 'сборной россии по художественной гимнастике': 'ORGANIZATION',\n 'журналистов': 'PROFESSION',\n 'того же дня': 'DATE',\n 'сша': 'COUNTRY',\n 'британская': 'COUNTRY',\n 'врезался в ограждение': 'EVENT',\n 'навои': 'PERSON',\n 'ташкентском': 'CITY',\n 'главного тренера': 'PROFESSION',\n 'прилетел': 'EVENT',\n 'газпром': 'ORGANIZATION',\n 'главу оператора морского участка \"южного потока\"': 'PROFESSION',\n 'алексей миллер': 'PERSON',\n 'южный поток': 'FACILITY',\n 'south stream transport': 'ORGANIZATION',\n 'прайм': 'ORGANIZATION',\n 'миллер': 'PERSON',\n 'пресс-конференции': 'EVENT',\n 'с 2010 года': 'DATE',\n 'марсель крамер': 'PERSON',\n 'в разные годы': 'DATE',\n 'норвежской': 'COUNTRY',\n 'statoil': 'ORGANIZATION',\n 'нидерландской': 'COUNTRY',\n 'член правления \"газпрома\"': 'PROFESSION',\n 'газпрома': 'ORGANIZATION',\n 'олег аксютин': 'PERSON',\n '46-летний': 'AGE',\n 'топ-менеджер': 'PROFESSION',\n 'в 2008 году': 'DATE',\n 'правление \"газпрома\"': 'ORGANIZATION',\n 'около 900 километров': 'NUMBER',\n 'черного моря': 'LOCATION',\n 'во втором квартале 2014 года': 'DATE',\n '7 декабря 2012 года': 'DATE',\n 'русская': 'NATIONALITY',\n 'анапы': 'CITY',\n 'четырех': 'NUMBER',\n 'около 15,75 миллиарда': 'NUMBER',\n 'европу': 'LOCATION',\n 'в первом квартале 2016 года': 'DATE',\n '63 миллиарда кубометров': 'NUMBER',\n 'в 2018 году': 'DATE',\n 'южного потока': 'FACILITY',\n '16 миллиардов евро': 'MONEY',\n 'gasunie': 'ORGANIZATION',\n 'правления \"газпрома\"': 'ORGANIZATION',\n 'главой оператора морской части \"южного потока\"': 'PROFESSION',\n 'начальником департамента по транспортировке, подземному хранению и использованию газа': 'PROFESSION',\n 'департамента по транспортировке, подземному хранению и использованию газа': 'ORGANIZATION',\n 'глава российского газового холдинга': 'PROFESSION',\n 'герман кейн': 'PERSON',\n 'президенты': 'PROFESSION',\n 'барака обамы': 'PERSON',\n 'в 2012 году': 'DATE',\n 'кейн': 'PERSON',\n 'godfather’s pizza': 'ORGANIZATION',\n 'в субботу': 'DATE',\n 'атланте': 'CITY',\n 'герману кейну': 'PERSON',\n '65 лет': 'AGE',\n 'движения чаепития': 'ORGANIZATION',\n 'сенат': 'ORGANIZATION',\n 'джорджии': 'STATE_OR_PROVINCE',\n 'республиканской партии': 'ORGANIZATION',\n 'германа кейна': 'PERSON',\n 'президентских выборах': 'EVENT',\n 'журналистам': 'PROFESSION',\n 'консервативного': 'IDEOLOGY',\n 'в 2004 году': 'DATE',\n 'анти-президентской': 'IDEOLOGY',\n 'республиканской': 'IDEOLOGY',\n 'александр винник': 'PERSON',\n 'прокуратуре': 'ORGANIZATION',\n 'btc-e': 'PRODUCT',\n 'греции': 'COUNTRY',\n 'в прошлом году': 'DATE',\n 'генпрокуратуру': 'ORGANIZATION',\n 'интерфакс': 'ORGANIZATION',\n 'винника': 'PERSON',\n 'в 2011-2017 годах': 'DATE',\n '750 млн руб': 'MONEY',\n 'винник': 'PERSON',\n 'генпрокуратуры': 'ORGANIZATION',\n 'останкинскому району': 'DISTRICT',\n 'адвокат': 'PROFESSION',\n 'илиас спирлиадис': 'PERSON',\n 'российским': 'COUNTRY',\n 'россиянина': 'NATIONALITY',\n 'греческого': 'COUNTRY',\n 'американских': 'COUNTRY',\n 'российские': 'NATIONALITY',\n '38-летний': 'AGE',\n 'россиянин': 'NATIONALITY',\n 'в октябре': 'DATE',\n 'салоники': 'CITY',\n 'в мае': 'DATE',\n 'wex.nz': 'PRODUCT',\n 'прокуратуре рф': 'ORGANIZATION',\n 'отмывании крупных денежных сумм': 'CRIME',\n 'генпрокуратуру рф': 'ORGANIZATION',\n 'отмывании денежных средств и иного имущества': 'CRIME',\n 'осуществлении мошеннической деятельности': 'CRIME',\n 'полиции': 'ORGANIZATION',\n 'отдел полиции по останкинскому району москвы': 'ORGANIZATION',\n 'мошенничестве': 'CRIME',\n 'виннику': 'PERSON',\n 'отмывании денег': 'CRIME',\n 'мошенничестве с криптовалютой': 'CRIME',\n 'незаконный обмен и отмывание денежных средств': 'CRIME',\n 'американских спецслужб': 'ORGANIZATION',\n 'арестован': 'EVENT',\n 'в июле 2017 года': 'DATE',\n 'ареста': 'PENALTY',\n 'мошенническими действиями': 'CRIME',\n 'арестованный': 'EVENT',\n 'российским властям': 'ORGANIZATION',\n 'американских властей': 'ORGANIZATION',\n 'российские власти': 'ORGANIZATION',\n 'признался': 'EVENT',\n 'обвиняемый': 'EVENT',\n 'явке с повинной': 'EVENT',\n 'явка с повинной': 'EVENT',\n 'арест': 'EVENT',\n 'отмывании денежных средств': 'CRIME',\n '21-летняя': 'AGE',\n 'екатеринбурга': 'CITY',\n 'полина попова': 'PERSON',\n 'миллион долларов': 'MONEY',\n 'три миллиона рублей': 'MONEY',\n 'россию': 'COUNTRY',\n 'мисс мира': 'EVENT',\n 'мисс вселенная': 'EVENT',\n 'попова': 'PERSON',\n 'шесть лет': 'DATE',\n 'мисс россия': 'AWARD',\n 'первым': 'ORDINAL',\n 'вице-мисс': 'AWARD',\n 'ксения александрова': 'PERSON',\n 'третье': 'ORDINAL',\n 'церемония финала': 'EVENT',\n 'барвиха luxury village': 'FACILITY',\n 'радио-диджей': 'PROFESSION',\n 'телеведущая': 'PROFESSION',\n 'виктория лопырёва': 'PERSON',\n 'в 2003 году': 'DATE',\n 'чемпионка мира': 'AWARD',\n 'по художественной гимнастике': 'AWARD',\n 'ляйсан утяшева': 'PERSON',\n 'дизайнер': 'PROFESSION',\n 'игорь чапурин': 'PERSON',\n 'фотограф': 'PROFESSION',\n 'джонатан беккер': 'PERSON',\n 'оксана фёдорова': 'PERSON',\n 'софия никитчук': 'PERSON',\n 'ксения сухинова': 'PERSON',\n '2007': 'DATE',\n '50': 'NUMBER',\n '173 сантиметров': 'NUMBER',\n 'старше 18': 'AGE',\n 'моложе 23 лет': 'AGE',\n 'модель': 'PROFESSION',\n 'максим привалов': 'PERSON',\n 'альбина ахтямова': 'PERSON',\n 'башкирии': 'STATE_OR_PROVINCE',\n 'москвичка': 'CITY',\n 'мисс россия-2017': 'AWARD',\n '2017': 'DATE',\n 'россия': 'COUNTRY',\n 'шестикратная чемпионка европы по художественной гимнастике': 'AWARD',\n 'европы': 'AWARD',\n '2001': 'DATE',\n '2015': 'DATE',\n 'барвиха': 'CITY',\n 'дагестане': 'STATE_OR_PROVINCE',\n 'семеро': 'NUMBER',\n 'унцукульском районе': 'DISTRICT',\n 'дагестана': 'STATE_OR_PROVINCE',\n 'около часа ночи': 'TIME',\n 'гимры': 'CITY',\n 'унцукуль': 'CITY',\n 'семь': 'NUMBER',\n 'риа «новости»': 'ORGANIZATION',\n 'двух километрах': 'NUMBER',\n 'двоих': 'NUMBER',\n 'три': 'NUMBER',\n '2008 года': 'DATE',\n 'двое': 'NUMBER',\n 'сайга': 'PRODUCT',\n '7,62 мм': 'NUMBER',\n 'ук рф': 'LAW',\n 'части 1 статьи 105': 'LAW',\n 'частью 3 статьи 30': 'LAW',\n 'частью 2 статьи 105': 'LAW',\n 'двух': 'NUMBER',\n 'массовой драки': 'EVENT',\n 'убиты семеро жителей': 'EVENT',\n 'массовая вооружённая драка': 'EVENT',\n 'погибли семь человек': 'EVENT',\n 'оказались в больнице': 'EVENT',\n 'драка': 'EVENT',\n 'массового конфликта': 'EVENT',\n 'скончались': 'EVENT',\n '1': 'ORDINAL',\n '105': 'ORDINAL',\n 'убийство': 'EVENT',\n 'ук': 'LAW',\n '3': 'ORDINAL',\n '30': 'AGE',\n '2': 'NUMBER',\n 'покушение на убийство более двух лиц': 'CRIME',\n 'незаконный оборот оружия': 'CRIME',\n '222': 'ORDINAL',\n 'статьи 222': 'LAW',\n 'части 2 статьи 222 ук рф': 'LAW',\n 'статьи 222 ук рф': 'LAW',\n 'уголовное дело': 'EVENT',\n 'возбуждено': 'EVENT',\n 'трём': 'NUMBER',\n 'расследование': 'EVENT',\n 'трёхлетний': 'AGE',\n 'в двух километрах от селения гимры': 'LOCATION',\n 'обнаружены тела': 'EVENT',\n 'погибли ещё три человека': 'EVENT',\n 'драки': 'EVENT',\n 'инцидента': 'EVENT',\n 'убиты': 'EVENT',\n 'б.асад': 'PERSON',\n 'х.рухани': 'PERSON',\n 'президента ирана': 'PROFESSION',\n 'президент сирии': 'PROFESSION',\n 'башар асад': 'PERSON',\n 'хасану рухани': 'PERSON',\n 'президента исламской республики иран': 'PROFESSION',\n 'иран': 'COUNTRY',\n 'сана': 'CITY',\n 'президент сар': 'PROFESSION',\n 'сирией': 'COUNTRY',\n 'ираном': 'COUNTRY',\n 'президентом ирана': 'PROFESSION',\n '14 июня': 'DATE',\n '64-летний': 'AGE',\n 'махмуд ахмадинеджад': 'PERSON',\n 'два срока': 'DATE',\n 'конституции': 'LAW',\n 'третий': 'ORDINAL',\n 'переговорах по ядерной проблеме': 'EVENT',\n 'м.ахмадинежадом': 'PERSON',\n 'тегераном': 'CITY',\n 'ирана': 'COUNTRY',\n 'сирии': 'COUNTRY',\n 'исламской республики иран': 'COUNTRY',\n 'сирийского': 'COUNTRY',\n 'сар': 'COUNTRY',\n 'выборов': 'EVENT',\n 'либералом': 'IDEOLOGY',\n 'избранием': 'EVENT',\n 'президент': 'PROFESSION',\n 'президента': 'PROFESSION',\n 'избрания': 'EVENT',\n 'глава государства': 'PROFESSION',\n 'президентом': 'PROFESSION',\n 'умеренным либералом': 'IDEOLOGY',\n 'переговорах': 'EVENT',\n 'поздравил': 'EVENT',\n 'направил поздравительную телеграмму': 'EVENT',\n 'як-18т': 'PRODUCT',\n 'катунино': 'CITY',\n '1 сентября 2012 года': 'DATE',\n '1 сентября 2012 года в 16:15 по московскому времени': 'TIME',\n 'лахта': 'FACILITY',\n 'авиасервис': 'ORGANIZATION',\n 'цукс мчс россии по архангельской области': 'ORGANIZATION',\n 'в 16 часов 25 мину': 'TIME',\n 'с 11:00 до 17:00 мск': 'TIME',\n 'в трёхстах метрах': 'NUMBER',\n 'яковлев': 'PRODUCT',\n 'прокуратура': 'ORGANIZATION',\n 'в 16:52': 'TIME',\n '54-х летний': 'AGE',\n 'пилот': 'PROFESSION',\n 'сергеей петрович пиганов': 'PERSON',\n 'авиакомпании трансавиа-гарантия': 'ORGANIZATION',\n '29-летняя': 'AGE',\n 'ольга короткова': 'PERSON',\n 'архангельска': 'CITY',\n 'два': 'NUMBER',\n 'андрей ершов': 'PERSON',\n '28 лет': 'AGE',\n 'сантехмастер': 'ORGANIZATION',\n 'денис колодешников': 'PERSON',\n '31 год': 'AGE',\n 'следственный комитет': 'ORGANIZATION',\n 'денисом колодешниковым': 'PERSON',\n 'в этот четверг 6 сентября': 'DATE',\n 'доме корабела': 'FACILITY',\n 'мироновой горе': 'FACILITY',\n 'авиакатастрофа': 'EVENT',\n 'московскому': 'CITY',\n 'архангельской области': 'STATE_OR_PROVINCE',\n 'приморском районе': 'DISTRICT',\n 'крушение': 'EVENT',\n 'авиационной катастрофе': 'EVENT',\n 'мчс россии по архангельской области': 'ORGANIZATION',\n 'мчс россии': 'ORGANIZATION',\n 'мчс': 'ORGANIZATION',\n 'цукс мчс россии': 'ORGANIZATION',\n 'происшествия': 'EVENT',\n 'спасатели': 'PROFESSION',\n 'пожарные': 'PROFESSION',\n 'полиция': 'ORGANIZATION',\n 'пожар был ликвидирован': 'EVENT',\n 'северодвинских': 'CITY',\n 'руководитель компании «сантехмастер': 'PROFESSION',\n 'аварии': 'EVENT',\n 'прощание': 'EVENT',\n 'в этот четверг 6 сентября с 11.00': 'TIME',\n 'руководитель компании': 'PROFESSION',\n 'упал и загорелся': 'EVENT',\n 'первый': 'ORDINAL',\n 'роберт генри лоуренс-младший': 'PERSON',\n 'northrop grumman': 'ORGANIZATION',\n 'cygnus ng-13': 'PRODUCT',\n 'роберта лоуренса': 'PERSON',\n 'robert lawrence': 'PERSON',\n 'первого': 'ORDINAL',\n '9 февраля 2020 года': 'DATE',\n 'международной космической станции': 'FACILITY',\n 'robert henry lawrence jr': 'PERSON',\n '2 октября 1935 года': 'DATE',\n 'чикаго': 'CITY',\n 'иллинойс': 'STATE_OR_PROVINCE',\n 'в 1952 году': 'DATE',\n 'энглвуда': 'CITY',\n '22 года': 'AGE',\n 'барбаре кресс': 'PERSON',\n 'ввс': 'ORGANIZATION',\n 'федеративную республику германию': 'COUNTRY',\n 'пилота-инструктора': 'PROFESSION',\n 'lockheed t-33': 'PRODUCT',\n 'в 1965 году': 'DATE',\n 'университет штата огайо': 'ORGANIZATION',\n 'в июне 1967 года': 'DATE',\n 'школу лётчиков-испытателей ввс сша': 'ORGANIZATION',\n 'ввс сша': 'ORGANIZATION',\n 'база ввс эдвардс': 'ORGANIZATION',\n 'калифорния': 'STATE_OR_PROVINCE',\n '8 декабря': 'DATE',\n 'manned orbiting laboratory': 'PRODUCT',\n 'министерства обороны': 'ORGANIZATION',\n 'роберт лоуренс': 'PERSON',\n 'лётчиком-испытателем': 'PROFESSION',\n '2500 часов': 'TIME',\n 'наса': 'ORGANIZATION',\n 'лётчика-испытателя': 'PROFESSION',\n 'lockheed f-104 starfighter': 'PRODUCT',\n 'x-15': 'PRODUCT',\n '8 декабря 1967 года': 'DATE',\n '32 лет': 'AGE',\n 'в этот день': 'DATE',\n 'лоуренс': 'PERSON',\n 'f-104': 'PRODUCT',\n 'майор': 'PROFESSION',\n 'харви ройер': 'PERSON',\n 'harvey royer': 'PERSON',\n 'ройер': 'PERSON',\n 'вторым': 'ORDINAL',\n '7-ю': 'ORDINAL',\n 'спейс шаттле': 'PRODUCT',\n '8 декабря 1997 года': 'DATE',\n 'роберта генри лоуренса-младшего': 'PERSON',\n 'космическое зеркало': 'FACILITY',\n 'конгресса': 'ORGANIZATION',\n 'резолюция № 214': 'LAW',\n '1991 год': 'DATE',\n 'роберта генри лоуренса младшего': 'PERSON',\n 'афроамериканец': 'NATIONALITY',\n 'астронавт': 'PROFESSION',\n 'астронавта': 'PROFESSION',\n 'военного астронавта': 'PROFESSION',\n 'военного': 'PROFESSION',\n 'афроамериканца': 'NATIONALITY',\n 'гибели': 'EVENT',\n 's.s. robert h. lawrence': 'PRODUCT',\n 'запущен': 'EVENT',\n 'германию': 'COUNTRY',\n 'пилота-инструктора самолёта lockheed t-33': 'PROFESSION',\n 'военных астронавтов': 'PROFESSION',\n 'военных': 'PROFESSION',\n 'астронавтов': 'PROFESSION',\n 'пилотируемая орбитальная лаборатория': 'PRODUCT',\n 'mol': 'PRODUCT',\n 'министерства обороны сша': 'ORGANIZATION',\n 'лётчиком': 'PROFESSION',\n 'испытателем': 'PROFESSION',\n 'лётчика': 'PROFESSION',\n 'испытателя': 'PROFESSION',\n 'пилота': 'PROFESSION',\n 'инструктора': 'PROFESSION',\n 'американский': 'COUNTRY',\n 'столкновение самолёта с землёй': 'EVENT',\n 'катастрофа': 'EVENT',\n 'конгресса сша': 'ORGANIZATION',\n 'астронавтам': 'PROFESSION',\n '7 я': 'ORDINAL',\n 'огайо': 'STATE_OR_PROVINCE',\n 'лётчиков-испытателей': 'PROFESSION',\n 'среднюю школу энглвуда': 'ORGANIZATION',\n 'плита с именем роберта генри лоуренса младшего': 'FACILITY',\n '214': 'ORDINAL',\n 'родился': 'EVENT',\n 'стамбуле': 'CITY',\n 'таджикский': 'COUNTRY',\n 'умарали кувватов': 'PERSON',\n 'стамбула': 'CITY',\n 'эмомали рахмона': 'PERSON',\n 'в пятницу, 5 марта 2015 года': 'DATE',\n 'турецкие': 'COUNTRY',\n 'группа 24': 'ORGANIZATION',\n 'турции': 'COUNTRY',\n 'в четверг': 'DATE',\n 'в четверг примерно в 22:30 по местному времени': 'TIME',\n 'стамбульском': 'CITY',\n 'фатих': 'DISTRICT',\n 'dogan': 'ORGANIZATION',\n 'стамбульская': 'CITY',\n 'кувватов': 'PERSON',\n '62-летнего': 'AGE',\n 'директора совхоза': 'PROFESSION',\n 'с 1992 года': 'DATE',\n 'в октябре прошлого года': 'DATE',\n 'верховный суд таджикистана': 'ORGANIZATION',\n 'группу 24': 'ORGANIZATION',\n 'таджикского': 'COUNTRY',\n 'таджикского лидера': 'PROFESSION',\n 'рахмона': 'PERSON',\n 'центральноазиатской': 'LOCATION',\n 'таджикистана': 'COUNTRY',\n 'экстремистской': 'IDEOLOGY',\n 'оппозиционер': 'IDEOLOGY',\n 'оппозиционного': 'IDEOLOGY',\n 'убит': 'EVENT',\n 'застрелен': 'EVENT',\n 'убит выстрелом в голову': 'EVENT',\n 'коррупции': 'CRIME',\n 'непотизме': 'CRIME',\n 'объявил': 'EVENT',\n 'экстремистской организацией': 'EVENT',\n 'запретил': 'EVENT',\n 'стамбульская полиция': 'ORGANIZATION',\n '24': 'NUMBER',\n 'роскомнадзор': 'ORGANIZATION',\n 'amazon': 'ORGANIZATION',\n 'amazon web services': 'PRODUCT',\n '21 июня 2016 года': 'DATE',\n \"'amazon web services\": 'PRODUCT',\n '2-6-27/2016-04-06-25-аи': 'LAW',\n '11 мая 2016 года': 'DATE',\n 'amazon s3': 'PRODUCT',\n 'официальный представитель': 'PROFESSION',\n 'роскомнадзора': 'ORGANIZATION',\n 'вадим ампелонский': 'PERSON',\n 'известиям': 'ORGANIZATION',\n 'фз n 244 «о государственном регулировании деятельности по организации и проведению азартных игр…»': 'LAW',\n 'фнс': 'PROFESSION',\n 'роскомнадзору': 'ORGANIZATION',\n \"'amazon'\": 'ORGANIZATION',\n \"'amazon s3\": 'PRODUCT',\n \"'888poker'\": 'PRODUCT',\n 'известия': 'ORGANIZATION',\n 'amazon.com': 'PRODUCT',\n 's3': 'PRODUCT',\n 'netflix': 'ORGANIZATION',\n 'airbnb': 'ORGANIZATION',\n 'twitter': 'PRODUCT',\n 'dropbox': 'ORGANIZATION',\n '71,6 млн': 'NUMBER',\n '21,4 млн': 'NUMBER',\n 'роскомсвободы': 'ORGANIZATION',\n 'осенью прошлого года': 'DATE',\n '7 тысяч': 'NUMBER',\n 'роцит': 'ORGANIZATION',\n 'сергея гребенникова': 'PERSON',\n 'официальный представитель роскомнадзора': 'PROFESSION',\n 'главы роцит': 'PROFESSION',\n 'фз n 244': 'LAW',\n 'о государственном регулировании деятельности по организации и проведению азартных игр': 'LAW',\n 'федеральную налоговую службу': 'ORGANIZATION',\n 'налоговики': 'PROFESSION',\n \"'amazon\": 'ORGANIZATION',\n 'заблокировал': 'EVENT',\n 'внёс в список': 'EVENT',\n 'блокировка': 'EVENT',\n 'рунета': 'PRODUCT',\n 'в конце 2015 года': 'DATE',\n 'вступили в силу': 'EVENT',\n '244': 'ORDINAL',\n 'в начале 2016 года': 'DATE',\n 'список запрещённых в россии сайтов': 'LAW',\n '19': 'DATE',\n 'забайкалье': 'STATE_OR_PROVINCE',\n 'куэнга': 'LOCATION',\n '21': 'ORDINAL',\n 'забайкальском крае': 'STATE_OR_PROVINCE',\n '15': 'NUMBER',\n 'сретенском районе': 'DISTRICT',\n '60 километрах': 'NUMBER',\n 'сретенска': 'CITY',\n 'гибдд': 'ORGANIZATION',\n 'водитель': 'PROFESSION',\n '47-летний': 'AGE',\n 'сергей кубасов': 'PERSON',\n 'более 20 лет': 'DATE',\n '44': 'NUMBER',\n 'шилки': 'CITY',\n 'нерчинска': 'CITY',\n 'kia granbird': 'PRODUCT',\n 'индивидуальный предприниматель': 'PROFESSION',\n 'сергей пнёв': 'PERSON',\n 'сретенск': 'CITY',\n 'чита': 'CITY',\n '360 километров': 'NUMBER',\n 'мбх медиа': 'ORGANIZATION',\n 'в 2019 году': 'DATE',\n 'части 3 статьи 238 ук': 'LAW',\n 'оказание услуг, не отвечающих требованиям безопасности, повлекшее по неосторожности смерть двух и более человек': 'LAW',\n 'двух и более': 'NUMBER',\n 'летом': 'DATE',\n 'укурей': 'CITY',\n '21 пострадал': 'EVENT',\n 'в воскресенье, 1 декабря 2019 года': 'DATE',\n 'госпитализированы': 'EVENT',\n 'в 60 километрах от сретенска': 'LOCATION',\n 'водитель автобуса': 'PROFESSION',\n 'возбуждено уголовное дело': 'EVENT',\n 'падения автобуса с моста': 'EVENT',\n 'граждан россии': 'NATIONALITY',\n 'статьи 238 ук': 'LAW',\n '19 человек погибли': 'EVENT',\n 'мосту через реку куэнга': 'FACILITY',\n 'нарушение правил перевозки пассажиров': 'CRIME',\n '15 человек госпитализированы': 'EVENT',\n '238': 'ORDINAL',\n 'чехии': 'COUNTRY',\n 'милош земан': 'PERSON',\n 'карел шварценберг': 'PERSON',\n '12 и 13 января 2013 года': 'DATE',\n 'первых': 'ORDINAL',\n '68-летний': 'AGE',\n '75-летний': 'AGE',\n 'вацлав клаус': 'PERSON',\n 'президентами': 'PROFESSION',\n 'вацлав гавел': 'PERSON',\n '1993—2003': 'DATE',\n 'чехию': 'COUNTRY',\n 'на протяжении последних 10 лет': 'DATE',\n 'с 2003 года': 'DATE',\n '20': 'NUMBER',\n 'министерством': 'ORGANIZATION',\n '11': 'NUMBER',\n 'второй': 'ORDINAL',\n 'троих': 'NUMBER',\n '13 декабря': 'DATE',\n 'мвд': 'ORGANIZATION',\n 'яну бобошикову': 'PERSON',\n 'первом': 'ORDINAL',\n '9': 'AGE',\n 'ян фишер': 'PERSON',\n 'владимир франц': 'PERSON',\n 'йиржи динстбир': 'PERSON',\n 'пшемысл соботка': 'PERSON',\n 'яна бобошикова': 'PERSON',\n 'таня фишерова': 'PERSON',\n 'зузана ройтова': 'PERSON',\n '61,31 %': 'PERCENT',\n 'земан': 'PERSON',\n 'более чем 24,2 процентами': 'PERCENT',\n 'второе': 'ORDINAL',\n 'глава мид': 'PROFESSION',\n 'более 50 %': 'PERCENT',\n 'первые': 'ORDINAL',\n '25—26 января 2013 года': 'DATE',\n 'главы государства': 'PROFESSION',\n 'премьер': 'PROFESSION',\n 'министр иностранных дел': 'PROFESSION',\n 'министр': 'PROFESSION',\n 'президент чехии': 'PROFESSION',\n 'глава мид чехии': 'PROFESSION',\n 'закон о введении прямых выборов главы государства': 'LAW',\n 'палат парламента': 'ORGANIZATION',\n 'парламента': 'ORGANIZATION',\n 'высший административный суд чехии': 'ORGANIZATION',\n 'выборы в первом туре': 'EVENT',\n 'выборы в сенат': 'EVENT',\n 'мид чехии': 'ORGANIZATION',\n 'мид': 'ORGANIZATION',\n 'первый тур прямых всенародных выборов': 'EVENT',\n 'прямых всенародных выборов': 'EVENT',\n 'первый тур первых прямых всенародных выборов': 'EVENT',\n 'подписал': 'EVENT',\n 'в феврале прошлого года': 'DATE',\n 'вынес решение': 'EVENT',\n '5 171 666': 'NUMBER',\n 'второй тур выборов': 'EVENT',\n 'первом туре': 'EVENT',\n 'выборы': 'EVENT',\n 'почти двести': 'NUMBER',\n 'оон': 'ORGANIZATION',\n 'мексиканском': 'COUNTRY',\n 'боливия': 'COUNTRY',\n 'lca': 'LAW',\n 'киотскому': 'CITY',\n 'redd': 'LAW',\n '200 млрд долларов': 'MONEY',\n 'ежегодно': 'DATE',\n 'с 2020 года': 'DATE',\n '100 млрд долларов': 'MONEY',\n 'рамочной конвенции оон по изменению климата': 'LAW',\n 'канкуне': 'CITY',\n 'киотскому протоколу': 'LAW',\n 'киотского': 'CITY',\n 'вступит в силу': 'EVENT',\n 'фонд чистого («зелёного») климата': 'ORGANIZATION',\n 'конференции': 'EVENT',\n 'одобрили проект соглашение': 'EVENT',\n 'соглашение по борьбе с выбросами углерода': 'LAW',\n 'артисту': 'PROFESSION',\n 'владимиру этушу': 'PERSON',\n '95 лет': 'AGE',\n 'владимир этуш': 'PERSON',\n 'в 1943 году': 'DATE',\n 'владимир путин': 'PERSON',\n 'субботу, 6 мая 2017 года': 'DATE',\n 'бенефис': 'WORK_OF_ART',\n 'надежды птушкиной': 'PERSON',\n 'москве': 'CITY',\n '94 года': 'AGE',\n 'с 1922-го': 'DATE',\n '94': 'NUMBER',\n 'этуш': 'PERSON',\n '95-летием': 'AGE',\n 'владимира этуша': 'PERSON',\n 'кремля': 'ORGANIZATION',\n 'великой отечественной': 'EVENT',\n 'советский': 'NATIONALITY',\n 'российский': 'COUNTRY',\n '12 стульев': 'WORK_OF_ART',\n 'кавказская пленница': 'WORK_OF_ART',\n 'иван васильевич меняет профессию': 'WORK_OF_ART',\n 'старая старая сказка': 'WORK_OF_ART',\n 'ссср': 'COUNTRY',\n 'государственной премии рф': 'AWARD',\n 'актёр театра и кино': 'PROFESSION',\n 'театра имени евгения вахтангова': 'ORGANIZATION',\n 'евгения вахтангова': 'PERSON',\n 'на 1923-й': 'DATE',\n 'президент россии': 'PROFESSION',\n 'иван васильевич': 'PERSON',\n 'актёр': 'PROFESSION',\n 'государственной премии': 'AWARD',\n 'народному артисту ссср': 'AWARD',\n 'народному артисту': 'AWARD',\n '12': 'NUMBER',\n 'кавказская': 'LOCATION',\n 'спартак': 'ORGANIZATION',\n '5 августа 2016 года': 'DATE',\n 'дмитрия аленичева': 'PERSON',\n '5 августа': 'DATE',\n 'спартака': 'ORGANIZATION',\n 'дмитрий аленичев': 'PERSON',\n 'спартаке': 'ORGANIZATION',\n 'сегодня': 'DATE',\n 'спартак-москва': 'ORGANIZATION',\n 'дмитрия анатольевича': 'PERSON',\n 'массимо каррера': 'PERSON',\n '43-летний': 'AGE',\n 'аленчиев': 'PERSON',\n 'тренером': 'PROFESSION',\n 'с 10 июня 2015 года': 'DATE',\n 'прошлом сезоне': 'DATE',\n 'пятого': 'ORDINAL',\n 'новый сезон': 'DATE',\n 'тульским': 'CITY',\n 'арсеналом': 'ORGANIZATION',\n '4': 'NUMBER',\n 'кипрскому': 'COUNTRY',\n 'аек': 'ORGANIZATION',\n 'двум': 'NUMBER',\n '3-й': 'ORDINAL',\n 'дмитрий анатольевич аленичев': 'PERSON',\n 'заслуженный мастер спорта': 'AWARD',\n 'лиги чемпионов уефа': 'EVENT',\n 'один': 'NUMBER',\n 'четырёх': 'NUMBER',\n 'куман': 'PERSON',\n 'роналдо': 'PERSON',\n 'джеррард': 'PERSON',\n 'в 2010 году': 'DATE',\n '18 лет': 'DATE',\n 'главный тренер': 'PROFESSION',\n 'тренером спартака': 'PROFESSION',\n 'футболистов': 'PROFESSION',\n 'футболист': 'PROFESSION',\n 'кубка уефа': 'AWARD',\n 'уефа': 'ORGANIZATION',\n 'победителем лиги чемпионов уефа': 'AWARD',\n '2003': 'DATE',\n 'заслуженный мастер спорта россии': 'AWARD',\n 'полузащитник': 'PROFESSION',\n 'лиги европы': 'EVENT',\n '0': 'NUMBER',\n 'лигу европы': 'EVENT',\n 'отставке': 'EVENT',\n 'отставку': 'EVENT',\n 'главный тренер «спартака': 'PROFESSION',\n 'совет директоров фк «спартак-москва': 'ORGANIZATION',\n 'москва': 'CITY',\n '-москва': 'CITY',\n 'аленичева': 'PERSON',\n 'красно-белые': 'ORGANIZATION',\n 'москвичи': 'NATIONALITY',\n 'фидель кастро': 'PERSON',\n '26 ноября 2016 года': 'DATE',\n '90 лет': 'AGE',\n 'рауль кастро': 'PERSON',\n 'государственного совета': 'ORGANIZATION',\n 'кубы': 'COUNTRY',\n 'фидель': 'PERSON',\n 'в 19:00 25 ноября 2016 года': 'TIME',\n '25 ноября 2016 года': 'DATE',\n '3:00 по московскому времени': 'TIME',\n 'в апреле': 'DATE',\n 'фидель алехандро кастро рус': 'PERSON',\n '13 августа 1926 года': 'DATE',\n 'биране': 'CITY',\n 'куба': 'COUNTRY',\n 'гаванского университета': 'ORGANIZATION',\n 'кастро': 'PERSON',\n 'в 1954 году': 'DATE',\n 'че геварой': 'PERSON',\n 'раулем': 'PERSON',\n '26 июля': 'DATE',\n 'кубу': 'COUNTRY',\n 'в 1959 году': 'DATE',\n 'в 1961 году': 'DATE',\n 'компартии': 'ORGANIZATION',\n 'западном полушарии': 'LOCATION',\n '31 июля 2006 года': 'DATE',\n 'раулю': 'PERSON',\n '24 февраля 2008 года': 'DATE',\n '19 апреля 2011 года': 'DATE',\n 'главы правящей партии': 'PROFESSION',\n 'правящей партии': 'ORGANIZATION',\n 'кубинской': 'COUNTRY',\n 'председатель государственного совета': 'PROFESSION',\n 'заливе свиней': 'LOCATION',\n 'землевладельца': 'PROFESSION',\n 'движение 26 июля': 'ORGANIZATION',\n 'батисты': 'PERSON',\n 'высадка': 'EVENT',\n 'марксистско-ленинская': 'IDEOLOGY',\n 'социалистический': 'IDEOLOGY',\n 'социалистические': 'IDEOLOGY',\n 'антиимпериалистические': 'IDEOLOGY',\n 'председатель государственного совета кубы': 'PROFESSION',\n 'свержения': 'EVENT',\n 'государственного совета кубы': 'ORGANIZATION',\n 'юридическом факультете гаванского университета': 'ORGANIZATION',\n 'умер': 'EVENT',\n 'уничтожением десанта': 'EVENT',\n 'покинул все государственные должности': 'EVENT',\n 'ушёл и с поста': 'EVENT',\n 'партизанскую войну': 'EVENT',\n 'кубинской революции': 'EVENT',\n 'революционеры': 'IDEOLOGY',\n 'пришли к власти': 'EVENT',\n 'аваков': 'PERSON',\n 'врио премьер-министра': 'PROFESSION',\n '24 июля 2014 года': 'DATE',\n 'арсен аваков': 'PERSON',\n 'facebook': 'PRODUCT',\n 'исполняющим обязанности премьер-министра украины': 'PROFESSION',\n 'владимир гройсман': 'PERSON',\n 'премьер-министр украины': 'PROFESSION',\n 'арсений яценюк': 'PERSON',\n 'две': 'NUMBER',\n 'удар': 'ORGANIZATION',\n 'свобода': 'ORGANIZATION',\n 'батькивщины': 'ORGANIZATION',\n 'европейский выбор': 'ORGANIZATION',\n 'верховной рады': 'ORGANIZATION',\n 'осенью 2014 года': 'DATE',\n 'яценюка': 'PERSON',\n 'верховной радой': 'ORGANIZATION',\n 'александр турчинов': 'PERSON',\n 'в 18.00 по местному времени': 'TIME',\n '19:00 мск': 'TIME',\n 'парламент': 'ORGANIZATION',\n '25 июля 2014 года': 'DATE',\n 'в 10:00 по киевскому времени': 'TIME',\n '11:00 мск': 'TIME',\n 'владимир борисович гройсман': 'PERSON',\n 'володимир борисович гройсман': 'PERSON',\n '20 января 1978 года': 'DATE',\n 'виннице': 'CITY',\n 'с 1994 по 2005 год': 'DATE',\n 'в 2002 году': 'DATE',\n 'депутатом': 'PROFESSION',\n 'винницкого': 'CITY',\n 'заместителем главы': 'PROFESSION',\n 'межрегиональную академию управления персоналом': 'ORGANIZATION',\n 'в ноябре 2005 года': 'DATE',\n 'секретарем': 'PROFESSION',\n 'с 25 ноября 2005 года': 'DATE',\n 'исполняющий обязанности городского головы города винница': 'PROFESSION',\n 'городского головы': 'PROFESSION',\n 'винница': 'CITY',\n '26 марта 2006 года': 'DATE',\n 'винницким': 'CITY',\n 'вице-премьер министр': 'PROFESSION',\n 'с 27 февраля 2014 года': 'DATE',\n 'украины': 'COUNTRY',\n 'врио премьер-министра украины': 'PROFESSION',\n 'исполняющим обязанности премьер-министра': 'PROFESSION',\n 'подал в отставку': 'EVENT',\n 'отставка': 'EVENT',\n 'киевскому': 'CITY',\n 'мск': 'CITY',\n 'винницкого городского совета по избирательному округу № 29': 'ORGANIZATION',\n 'депутатом винницкого городского совета по избирательному округу № 29': 'PROFESSION',\n ...}"
     },
     "execution_count": 22,
     "metadata": {},
     "output_type": "execute_result"
    }
   ],
   "source": [
    "model"
   ],
   "metadata": {
    "collapsed": false,
    "ExecuteTime": {
     "end_time": "2024-04-27T13:22:34.910104Z",
     "start_time": "2024-04-27T13:22:34.900209Z"
    }
   },
   "id": "335ae9acef503935",
   "execution_count": 22
  },
  {
   "cell_type": "code",
   "outputs": [],
   "source": [
    "all_ners = []\n",
    "\n",
    "# Find the NERs in the test\n",
    "for i, row in test.iterrows():\n",
    "    ners = []\n",
    "    \n",
    "    for key in model.keys():\n",
    "        ind = row.text.lower().find(key)\n",
    "        if ind != -1:\n",
    "            ners.append([ind, ind+len(key)-1, model[key]])\n",
    "    all_ners.append(ners)"
   ],
   "metadata": {
    "collapsed": false,
    "ExecuteTime": {
     "end_time": "2024-04-27T13:31:35.055596Z",
     "start_time": "2024-04-27T13:31:28.755700Z"
    }
   },
   "id": "c5c2512fb4c1766b",
   "execution_count": 33
  },
  {
   "cell_type": "code",
   "outputs": [
    {
     "data": {
      "text/plain": "                                                  text  \\\nid                                                       \n584  Владелец «Бирмингема» получил шесть лет тюрьмы...   \n585  Акция протеста на Майдане Независимости объявл...   \n586  Фольксваген может перейти под контроль Порше \\...   \n587  В Москве покажут фильмы Чарли Чаплина с живой ...   \n588  Чулпан Хаматова сыграет главную роль в фильме ...   \n..                                                 ...   \n644  ОБСЕ назвала референдум о статусе Крыма незако...   \n645  Египетского студента могут выслать из страны з...   \n646  Геннадий Онищенко отправлен в отставку\\nГеннад...   \n647  Племянник Алишера Усманова разбился в ДТП\\nВид...   \n648  Владимир Булавин назначен на новую должность —...   \n\n                                                  ners  \nid                                                      \n584  [[137, 137, NUMBER], [30, 38, DATE], [480, 483...  \n585  [[202, 203, LAW], [190, 198, PROFESSION], [190...  \n586  [[113, 113, NUMBER], [691, 697, NUMBER], [110,...  \n587  [[333, 334, ORDINAL], [249, 249, ORDINAL], [97...  \n588  [[1451, 1451, NUMBER], [1687, 1688, NUMBER], [...  \n..                                                 ...  \n644  [[225, 225, NUMBER], [113, 114, NUMBER], [164,...  \n645  [[382, 391, PROFESSION], [396, 417, ORGANIZATI...  \n646  [[205, 219, PROFESSION], [70, 71, ORDINAL], [3...  \n647  [[951, 965, PROFESSION], [1985, 1985, NUMBER],...  \n648  [[339, 353, PROFESSION], [1712, 1712, NUMBER],...  \n\n[65 rows x 2 columns]",
      "text/html": "<div>\n<style scoped>\n    .dataframe tbody tr th:only-of-type {\n        vertical-align: middle;\n    }\n\n    .dataframe tbody tr th {\n        vertical-align: top;\n    }\n\n    .dataframe thead th {\n        text-align: right;\n    }\n</style>\n<table border=\"1\" class=\"dataframe\">\n  <thead>\n    <tr style=\"text-align: right;\">\n      <th></th>\n      <th>text</th>\n      <th>ners</th>\n    </tr>\n    <tr>\n      <th>id</th>\n      <th></th>\n      <th></th>\n    </tr>\n  </thead>\n  <tbody>\n    <tr>\n      <th>584</th>\n      <td>Владелец «Бирмингема» получил шесть лет тюрьмы...</td>\n      <td>[[137, 137, NUMBER], [30, 38, DATE], [480, 483...</td>\n    </tr>\n    <tr>\n      <th>585</th>\n      <td>Акция протеста на Майдане Независимости объявл...</td>\n      <td>[[202, 203, LAW], [190, 198, PROFESSION], [190...</td>\n    </tr>\n    <tr>\n      <th>586</th>\n      <td>Фольксваген может перейти под контроль Порше \\...</td>\n      <td>[[113, 113, NUMBER], [691, 697, NUMBER], [110,...</td>\n    </tr>\n    <tr>\n      <th>587</th>\n      <td>В Москве покажут фильмы Чарли Чаплина с живой ...</td>\n      <td>[[333, 334, ORDINAL], [249, 249, ORDINAL], [97...</td>\n    </tr>\n    <tr>\n      <th>588</th>\n      <td>Чулпан Хаматова сыграет главную роль в фильме ...</td>\n      <td>[[1451, 1451, NUMBER], [1687, 1688, NUMBER], [...</td>\n    </tr>\n    <tr>\n      <th>...</th>\n      <td>...</td>\n      <td>...</td>\n    </tr>\n    <tr>\n      <th>644</th>\n      <td>ОБСЕ назвала референдум о статусе Крыма незако...</td>\n      <td>[[225, 225, NUMBER], [113, 114, NUMBER], [164,...</td>\n    </tr>\n    <tr>\n      <th>645</th>\n      <td>Египетского студента могут выслать из страны з...</td>\n      <td>[[382, 391, PROFESSION], [396, 417, ORGANIZATI...</td>\n    </tr>\n    <tr>\n      <th>646</th>\n      <td>Геннадий Онищенко отправлен в отставку\\nГеннад...</td>\n      <td>[[205, 219, PROFESSION], [70, 71, ORDINAL], [3...</td>\n    </tr>\n    <tr>\n      <th>647</th>\n      <td>Племянник Алишера Усманова разбился в ДТП\\nВид...</td>\n      <td>[[951, 965, PROFESSION], [1985, 1985, NUMBER],...</td>\n    </tr>\n    <tr>\n      <th>648</th>\n      <td>Владимир Булавин назначен на новую должность —...</td>\n      <td>[[339, 353, PROFESSION], [1712, 1712, NUMBER],...</td>\n    </tr>\n  </tbody>\n</table>\n<p>65 rows × 2 columns</p>\n</div>"
     },
     "execution_count": 34,
     "metadata": {},
     "output_type": "execute_result"
    }
   ],
   "source": [
    "test['ners'] = all_ners\n",
    "test"
   ],
   "metadata": {
    "collapsed": false,
    "ExecuteTime": {
     "end_time": "2024-04-27T13:31:41.616361Z",
     "start_time": "2024-04-27T13:31:41.542612Z"
    }
   },
   "id": "39ffad2d2cb1cc0a",
   "execution_count": 34
  },
  {
   "cell_type": "code",
   "outputs": [],
   "source": [
    "# Save the predictions\n",
    "with open(\"result.jsonl\", \"w\") as f:\n",
    "    for i, id in enumerate(test.index):\n",
    "        a = test.iloc[i]['ners']\n",
    "        f.write(f\"{'{'}'ners': {a}, 'id': {id}{'}'}\\n\")"
   ],
   "metadata": {
    "collapsed": false,
    "ExecuteTime": {
     "end_time": "2024-04-27T13:31:54.080098Z",
     "start_time": "2024-04-27T13:31:54.074302Z"
    }
   },
   "id": "6b44f2b6ae4e501c",
   "execution_count": 36
  }
 ],
 "metadata": {
  "kernelspec": {
   "display_name": "Python 3",
   "language": "python",
   "name": "python3"
  },
  "language_info": {
   "codemirror_mode": {
    "name": "ipython",
    "version": 2
   },
   "file_extension": ".py",
   "mimetype": "text/x-python",
   "name": "python",
   "nbconvert_exporter": "python",
   "pygments_lexer": "ipython2",
   "version": "2.7.6"
  }
 },
 "nbformat": 4,
 "nbformat_minor": 5
}
